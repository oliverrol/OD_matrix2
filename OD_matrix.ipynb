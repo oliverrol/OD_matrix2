{
 "cells": [
  {
   "cell_type": "code",
   "id": "initial_id",
   "metadata": {
    "collapsed": true,
    "ExecuteTime": {
     "end_time": "2025-07-30T17:02:03.298571Z",
     "start_time": "2025-07-30T17:02:03.284065Z"
    }
   },
   "source": [
    "import geopandas as gpd\n",
    "import numpy as np\n",
    "import pandas as pd\n",
    "import folium\n",
    "import h5py\n",
    "from pandas import RangeIndex"
   ],
   "outputs": [],
   "execution_count": 20
  },
  {
   "metadata": {},
   "cell_type": "markdown",
   "source": [
    "# This notebook will be used to:\n",
    "- #### Aggregate PSRC's TAZ to the ZIPCODEs\n",
    "- #### Get the OD matrices to the ZIP-code level"
   ],
   "id": "d8356b7e4f5281d8"
  },
  {
   "metadata": {},
   "cell_type": "markdown",
   "source": [
    "# Aggregating PSRC's TAZs\n",
    "\n",
    "First I'm gonna assign any TAZ that has its centroid inside the Zip code to that zipcode\n",
    "\n",
    "After that, as there are some that have funny borders with the water, I'm gonna do the ones that intersect the Zipcode be assigned to that zipcode"
   ],
   "id": "d3a5f315d409953"
  },
  {
   "metadata": {
    "ExecuteTime": {
     "end_time": "2025-07-30T17:02:07.637850Z",
     "start_time": "2025-07-30T17:02:04.601440Z"
    }
   },
   "cell_type": "code",
   "source": [
    "#Importing the TAZ\n",
    "TAZ = gpd.read_file('data/PSRC/soundcast_042125.gdb', layer = 'TAZ_2010')\n",
    "# TAZ = TAZ.drop(columns = ['park', 'acres', 'GlobalID', 'Shape_Length', 'Shape_Area'])\n",
    "TAZ_original = TAZ.copy()\n",
    "\n",
    "#Importing the zipcodes in the 2010 format\n",
    "ZIP_code = gpd.read_file('data/ZIP Codes/zip10_full.gpkg')\n",
    "ZIP_code = ZIP_code[['GEOID10', 'geometry']]\n",
    "ZIP_code_original = ZIP_code.copy()"
   ],
   "id": "81ac36e94aa51f1a",
   "outputs": [],
   "execution_count": 21
  },
  {
   "metadata": {
    "ExecuteTime": {
     "end_time": "2025-07-30T17:02:08.261157Z",
     "start_time": "2025-07-30T17:02:08.236342Z"
    }
   },
   "cell_type": "code",
   "source": "TAZ",
   "id": "181811f5056d7254",
   "outputs": [
    {
     "data": {
      "text/plain": [
       "         taz  park        acres                                GlobalID  \\\n",
       "0        1.0   0.0  1758.710924  {F3202174-57CD-4E95-AECB-18D9AB20377F}   \n",
       "1        2.0   0.0   120.755587  {D5383690-0E2A-43B7-81DC-A17CFA9645B0}   \n",
       "2        3.0   0.0   124.332936  {4A65D6B2-0DFD-447F-B74C-8A2233E81DBF}   \n",
       "3        4.0   0.0   112.086215  {21D4918A-BD56-4A8B-A59F-772BD6734ED0}   \n",
       "4        5.0   0.0    57.157023  {40947E9A-D688-4C0D-A90B-70BCAA660DE0}   \n",
       "...      ...   ...          ...                                     ...   \n",
       "3695  3696.0   0.0   985.847070  {2363DDFD-B98C-4A69-A871-C38D6885885C}   \n",
       "3696  3697.0   0.0  2609.642770  {564442F1-C923-4F7D-8D18-44DDE3C9978F}   \n",
       "3697  3698.0   0.0   641.622735  {A668A34C-6202-41A1-B839-736188CE6670}   \n",
       "3698  3699.0   0.0  3095.122859  {273D851F-C04B-4029-8469-73AD6F8497C4}   \n",
       "3699  3700.0   0.0  6008.278157  {00F25919-4EE3-47F7-BA8F-BA06EEF35888}   \n",
       "\n",
       "      Shape_Length    Shape_Area  \\\n",
       "0     46720.500071  7.660914e+07   \n",
       "1     10591.087634  5.260092e+06   \n",
       "2      9555.337706  5.415921e+06   \n",
       "3      9618.098623  4.882456e+06   \n",
       "4      7807.650622  2.489750e+06   \n",
       "...            ...           ...   \n",
       "3695  30514.017509  4.294333e+07   \n",
       "3696  43581.705129  1.136756e+08   \n",
       "3697  31374.018528  2.794898e+07   \n",
       "3698  65860.215701  1.348230e+08   \n",
       "3699  75191.631188  2.617195e+08   \n",
       "\n",
       "                                               geometry  \n",
       "0     MULTIPOLYGON (((1264477.853 269042.424, 126446...  \n",
       "1     MULTIPOLYGON (((1265788.093 268180.249, 126577...  \n",
       "2     MULTIPOLYGON (((1265848.689 271492.146, 126617...  \n",
       "3     MULTIPOLYGON (((1267095.215 269151.901, 126728...  \n",
       "4     MULTIPOLYGON (((1270732.726 269633.63, 1271063...  \n",
       "...                                                 ...  \n",
       "3695  MULTIPOLYGON (((1213639.678 239372.617, 121371...  \n",
       "3696  MULTIPOLYGON (((1212031.956 234139.577, 121203...  \n",
       "3697  MULTIPOLYGON (((1219221.496 231349.083, 121923...  \n",
       "3698  MULTIPOLYGON (((1223293.588 230473.96, 1224169...  \n",
       "3699  MULTIPOLYGON (((1242258.645 228423.999, 124236...  \n",
       "\n",
       "[3700 rows x 7 columns]"
      ],
      "text/html": [
       "<div>\n",
       "<style scoped>\n",
       "    .dataframe tbody tr th:only-of-type {\n",
       "        vertical-align: middle;\n",
       "    }\n",
       "\n",
       "    .dataframe tbody tr th {\n",
       "        vertical-align: top;\n",
       "    }\n",
       "\n",
       "    .dataframe thead th {\n",
       "        text-align: right;\n",
       "    }\n",
       "</style>\n",
       "<table border=\"1\" class=\"dataframe\">\n",
       "  <thead>\n",
       "    <tr style=\"text-align: right;\">\n",
       "      <th></th>\n",
       "      <th>taz</th>\n",
       "      <th>park</th>\n",
       "      <th>acres</th>\n",
       "      <th>GlobalID</th>\n",
       "      <th>Shape_Length</th>\n",
       "      <th>Shape_Area</th>\n",
       "      <th>geometry</th>\n",
       "    </tr>\n",
       "  </thead>\n",
       "  <tbody>\n",
       "    <tr>\n",
       "      <th>0</th>\n",
       "      <td>1.0</td>\n",
       "      <td>0.0</td>\n",
       "      <td>1758.710924</td>\n",
       "      <td>{F3202174-57CD-4E95-AECB-18D9AB20377F}</td>\n",
       "      <td>46720.500071</td>\n",
       "      <td>7.660914e+07</td>\n",
       "      <td>MULTIPOLYGON (((1264477.853 269042.424, 126446...</td>\n",
       "    </tr>\n",
       "    <tr>\n",
       "      <th>1</th>\n",
       "      <td>2.0</td>\n",
       "      <td>0.0</td>\n",
       "      <td>120.755587</td>\n",
       "      <td>{D5383690-0E2A-43B7-81DC-A17CFA9645B0}</td>\n",
       "      <td>10591.087634</td>\n",
       "      <td>5.260092e+06</td>\n",
       "      <td>MULTIPOLYGON (((1265788.093 268180.249, 126577...</td>\n",
       "    </tr>\n",
       "    <tr>\n",
       "      <th>2</th>\n",
       "      <td>3.0</td>\n",
       "      <td>0.0</td>\n",
       "      <td>124.332936</td>\n",
       "      <td>{4A65D6B2-0DFD-447F-B74C-8A2233E81DBF}</td>\n",
       "      <td>9555.337706</td>\n",
       "      <td>5.415921e+06</td>\n",
       "      <td>MULTIPOLYGON (((1265848.689 271492.146, 126617...</td>\n",
       "    </tr>\n",
       "    <tr>\n",
       "      <th>3</th>\n",
       "      <td>4.0</td>\n",
       "      <td>0.0</td>\n",
       "      <td>112.086215</td>\n",
       "      <td>{21D4918A-BD56-4A8B-A59F-772BD6734ED0}</td>\n",
       "      <td>9618.098623</td>\n",
       "      <td>4.882456e+06</td>\n",
       "      <td>MULTIPOLYGON (((1267095.215 269151.901, 126728...</td>\n",
       "    </tr>\n",
       "    <tr>\n",
       "      <th>4</th>\n",
       "      <td>5.0</td>\n",
       "      <td>0.0</td>\n",
       "      <td>57.157023</td>\n",
       "      <td>{40947E9A-D688-4C0D-A90B-70BCAA660DE0}</td>\n",
       "      <td>7807.650622</td>\n",
       "      <td>2.489750e+06</td>\n",
       "      <td>MULTIPOLYGON (((1270732.726 269633.63, 1271063...</td>\n",
       "    </tr>\n",
       "    <tr>\n",
       "      <th>...</th>\n",
       "      <td>...</td>\n",
       "      <td>...</td>\n",
       "      <td>...</td>\n",
       "      <td>...</td>\n",
       "      <td>...</td>\n",
       "      <td>...</td>\n",
       "      <td>...</td>\n",
       "    </tr>\n",
       "    <tr>\n",
       "      <th>3695</th>\n",
       "      <td>3696.0</td>\n",
       "      <td>0.0</td>\n",
       "      <td>985.847070</td>\n",
       "      <td>{2363DDFD-B98C-4A69-A871-C38D6885885C}</td>\n",
       "      <td>30514.017509</td>\n",
       "      <td>4.294333e+07</td>\n",
       "      <td>MULTIPOLYGON (((1213639.678 239372.617, 121371...</td>\n",
       "    </tr>\n",
       "    <tr>\n",
       "      <th>3696</th>\n",
       "      <td>3697.0</td>\n",
       "      <td>0.0</td>\n",
       "      <td>2609.642770</td>\n",
       "      <td>{564442F1-C923-4F7D-8D18-44DDE3C9978F}</td>\n",
       "      <td>43581.705129</td>\n",
       "      <td>1.136756e+08</td>\n",
       "      <td>MULTIPOLYGON (((1212031.956 234139.577, 121203...</td>\n",
       "    </tr>\n",
       "    <tr>\n",
       "      <th>3697</th>\n",
       "      <td>3698.0</td>\n",
       "      <td>0.0</td>\n",
       "      <td>641.622735</td>\n",
       "      <td>{A668A34C-6202-41A1-B839-736188CE6670}</td>\n",
       "      <td>31374.018528</td>\n",
       "      <td>2.794898e+07</td>\n",
       "      <td>MULTIPOLYGON (((1219221.496 231349.083, 121923...</td>\n",
       "    </tr>\n",
       "    <tr>\n",
       "      <th>3698</th>\n",
       "      <td>3699.0</td>\n",
       "      <td>0.0</td>\n",
       "      <td>3095.122859</td>\n",
       "      <td>{273D851F-C04B-4029-8469-73AD6F8497C4}</td>\n",
       "      <td>65860.215701</td>\n",
       "      <td>1.348230e+08</td>\n",
       "      <td>MULTIPOLYGON (((1223293.588 230473.96, 1224169...</td>\n",
       "    </tr>\n",
       "    <tr>\n",
       "      <th>3699</th>\n",
       "      <td>3700.0</td>\n",
       "      <td>0.0</td>\n",
       "      <td>6008.278157</td>\n",
       "      <td>{00F25919-4EE3-47F7-BA8F-BA06EEF35888}</td>\n",
       "      <td>75191.631188</td>\n",
       "      <td>2.617195e+08</td>\n",
       "      <td>MULTIPOLYGON (((1242258.645 228423.999, 124236...</td>\n",
       "    </tr>\n",
       "  </tbody>\n",
       "</table>\n",
       "<p>3700 rows × 7 columns</p>\n",
       "</div>"
      ]
     },
     "execution_count": 22,
     "metadata": {},
     "output_type": "execute_result"
    }
   ],
   "execution_count": 22
  },
  {
   "metadata": {
    "ExecuteTime": {
     "end_time": "2025-07-30T17:02:09.657113Z",
     "start_time": "2025-07-30T17:02:09.648603Z"
    }
   },
   "cell_type": "code",
   "source": [
    "#Working on this projection to make all the centroids and intersections\n",
    "epsg_work = 26910"
   ],
   "id": "5f830e85d872c259",
   "outputs": [],
   "execution_count": 23
  },
  {
   "metadata": {
    "ExecuteTime": {
     "end_time": "2025-07-30T17:02:11.257578Z",
     "start_time": "2025-07-30T17:02:11.062017Z"
    }
   },
   "cell_type": "code",
   "source": [
    "#Making the centroids\n",
    "TAZ['geometry'] = TAZ_original['geometry'].to_crs(epsg_work).centroid\n",
    "TAZ\n"
   ],
   "id": "666d7472fb940af0",
   "outputs": [
    {
     "data": {
      "text/plain": [
       "         taz  park        acres                                GlobalID  \\\n",
       "0        1.0   0.0  1758.710924  {F3202174-57CD-4E95-AECB-18D9AB20377F}   \n",
       "1        2.0   0.0   120.755587  {D5383690-0E2A-43B7-81DC-A17CFA9645B0}   \n",
       "2        3.0   0.0   124.332936  {4A65D6B2-0DFD-447F-B74C-8A2233E81DBF}   \n",
       "3        4.0   0.0   112.086215  {21D4918A-BD56-4A8B-A59F-772BD6734ED0}   \n",
       "4        5.0   0.0    57.157023  {40947E9A-D688-4C0D-A90B-70BCAA660DE0}   \n",
       "...      ...   ...          ...                                     ...   \n",
       "3695  3696.0   0.0   985.847070  {2363DDFD-B98C-4A69-A871-C38D6885885C}   \n",
       "3696  3697.0   0.0  2609.642770  {564442F1-C923-4F7D-8D18-44DDE3C9978F}   \n",
       "3697  3698.0   0.0   641.622735  {A668A34C-6202-41A1-B839-736188CE6670}   \n",
       "3698  3699.0   0.0  3095.122859  {273D851F-C04B-4029-8469-73AD6F8497C4}   \n",
       "3699  3700.0   0.0  6008.278157  {00F25919-4EE3-47F7-BA8F-BA06EEF35888}   \n",
       "\n",
       "      Shape_Length    Shape_Area                        geometry  \n",
       "0     46720.500071  7.660914e+07  POINT (545537.557 5286129.922)  \n",
       "1     10591.087634  5.260092e+06  POINT (548122.031 5286344.538)  \n",
       "2      9555.337706  5.415921e+06   POINT (548718.019 5286633.57)  \n",
       "3      9618.098623  4.882456e+06  POINT (548718.484 5286031.037)  \n",
       "4      7807.650622  2.489750e+06  POINT (549379.446 5286544.365)  \n",
       "...            ...           ...                             ...  \n",
       "3695  30514.017509  4.294333e+07  POINT (532401.006 5275608.358)  \n",
       "3696  43581.705129  1.136756e+08  POINT (532469.443 5272860.464)  \n",
       "3697  31374.018528  2.794898e+07   POINT (534285.03 5272495.224)  \n",
       "3698  65860.215701  1.348230e+08   POINT (537281.343 5273180.28)  \n",
       "3699  75191.631188  2.617195e+08  POINT (538312.423 5270792.965)  \n",
       "\n",
       "[3700 rows x 7 columns]"
      ],
      "text/html": [
       "<div>\n",
       "<style scoped>\n",
       "    .dataframe tbody tr th:only-of-type {\n",
       "        vertical-align: middle;\n",
       "    }\n",
       "\n",
       "    .dataframe tbody tr th {\n",
       "        vertical-align: top;\n",
       "    }\n",
       "\n",
       "    .dataframe thead th {\n",
       "        text-align: right;\n",
       "    }\n",
       "</style>\n",
       "<table border=\"1\" class=\"dataframe\">\n",
       "  <thead>\n",
       "    <tr style=\"text-align: right;\">\n",
       "      <th></th>\n",
       "      <th>taz</th>\n",
       "      <th>park</th>\n",
       "      <th>acres</th>\n",
       "      <th>GlobalID</th>\n",
       "      <th>Shape_Length</th>\n",
       "      <th>Shape_Area</th>\n",
       "      <th>geometry</th>\n",
       "    </tr>\n",
       "  </thead>\n",
       "  <tbody>\n",
       "    <tr>\n",
       "      <th>0</th>\n",
       "      <td>1.0</td>\n",
       "      <td>0.0</td>\n",
       "      <td>1758.710924</td>\n",
       "      <td>{F3202174-57CD-4E95-AECB-18D9AB20377F}</td>\n",
       "      <td>46720.500071</td>\n",
       "      <td>7.660914e+07</td>\n",
       "      <td>POINT (545537.557 5286129.922)</td>\n",
       "    </tr>\n",
       "    <tr>\n",
       "      <th>1</th>\n",
       "      <td>2.0</td>\n",
       "      <td>0.0</td>\n",
       "      <td>120.755587</td>\n",
       "      <td>{D5383690-0E2A-43B7-81DC-A17CFA9645B0}</td>\n",
       "      <td>10591.087634</td>\n",
       "      <td>5.260092e+06</td>\n",
       "      <td>POINT (548122.031 5286344.538)</td>\n",
       "    </tr>\n",
       "    <tr>\n",
       "      <th>2</th>\n",
       "      <td>3.0</td>\n",
       "      <td>0.0</td>\n",
       "      <td>124.332936</td>\n",
       "      <td>{4A65D6B2-0DFD-447F-B74C-8A2233E81DBF}</td>\n",
       "      <td>9555.337706</td>\n",
       "      <td>5.415921e+06</td>\n",
       "      <td>POINT (548718.019 5286633.57)</td>\n",
       "    </tr>\n",
       "    <tr>\n",
       "      <th>3</th>\n",
       "      <td>4.0</td>\n",
       "      <td>0.0</td>\n",
       "      <td>112.086215</td>\n",
       "      <td>{21D4918A-BD56-4A8B-A59F-772BD6734ED0}</td>\n",
       "      <td>9618.098623</td>\n",
       "      <td>4.882456e+06</td>\n",
       "      <td>POINT (548718.484 5286031.037)</td>\n",
       "    </tr>\n",
       "    <tr>\n",
       "      <th>4</th>\n",
       "      <td>5.0</td>\n",
       "      <td>0.0</td>\n",
       "      <td>57.157023</td>\n",
       "      <td>{40947E9A-D688-4C0D-A90B-70BCAA660DE0}</td>\n",
       "      <td>7807.650622</td>\n",
       "      <td>2.489750e+06</td>\n",
       "      <td>POINT (549379.446 5286544.365)</td>\n",
       "    </tr>\n",
       "    <tr>\n",
       "      <th>...</th>\n",
       "      <td>...</td>\n",
       "      <td>...</td>\n",
       "      <td>...</td>\n",
       "      <td>...</td>\n",
       "      <td>...</td>\n",
       "      <td>...</td>\n",
       "      <td>...</td>\n",
       "    </tr>\n",
       "    <tr>\n",
       "      <th>3695</th>\n",
       "      <td>3696.0</td>\n",
       "      <td>0.0</td>\n",
       "      <td>985.847070</td>\n",
       "      <td>{2363DDFD-B98C-4A69-A871-C38D6885885C}</td>\n",
       "      <td>30514.017509</td>\n",
       "      <td>4.294333e+07</td>\n",
       "      <td>POINT (532401.006 5275608.358)</td>\n",
       "    </tr>\n",
       "    <tr>\n",
       "      <th>3696</th>\n",
       "      <td>3697.0</td>\n",
       "      <td>0.0</td>\n",
       "      <td>2609.642770</td>\n",
       "      <td>{564442F1-C923-4F7D-8D18-44DDE3C9978F}</td>\n",
       "      <td>43581.705129</td>\n",
       "      <td>1.136756e+08</td>\n",
       "      <td>POINT (532469.443 5272860.464)</td>\n",
       "    </tr>\n",
       "    <tr>\n",
       "      <th>3697</th>\n",
       "      <td>3698.0</td>\n",
       "      <td>0.0</td>\n",
       "      <td>641.622735</td>\n",
       "      <td>{A668A34C-6202-41A1-B839-736188CE6670}</td>\n",
       "      <td>31374.018528</td>\n",
       "      <td>2.794898e+07</td>\n",
       "      <td>POINT (534285.03 5272495.224)</td>\n",
       "    </tr>\n",
       "    <tr>\n",
       "      <th>3698</th>\n",
       "      <td>3699.0</td>\n",
       "      <td>0.0</td>\n",
       "      <td>3095.122859</td>\n",
       "      <td>{273D851F-C04B-4029-8469-73AD6F8497C4}</td>\n",
       "      <td>65860.215701</td>\n",
       "      <td>1.348230e+08</td>\n",
       "      <td>POINT (537281.343 5273180.28)</td>\n",
       "    </tr>\n",
       "    <tr>\n",
       "      <th>3699</th>\n",
       "      <td>3700.0</td>\n",
       "      <td>0.0</td>\n",
       "      <td>6008.278157</td>\n",
       "      <td>{00F25919-4EE3-47F7-BA8F-BA06EEF35888}</td>\n",
       "      <td>75191.631188</td>\n",
       "      <td>2.617195e+08</td>\n",
       "      <td>POINT (538312.423 5270792.965)</td>\n",
       "    </tr>\n",
       "  </tbody>\n",
       "</table>\n",
       "<p>3700 rows × 7 columns</p>\n",
       "</div>"
      ]
     },
     "execution_count": 24,
     "metadata": {},
     "output_type": "execute_result"
    }
   ],
   "execution_count": 24
  },
  {
   "metadata": {
    "ExecuteTime": {
     "end_time": "2025-07-30T17:02:14.071829Z",
     "start_time": "2025-07-30T17:02:13.032305Z"
    }
   },
   "cell_type": "code",
   "source": [
    "#Making the spatial join\n",
    "ZIP_code = ZIP_code.to_crs(epsg = epsg_work)\n",
    "TAZ_to_ZIP = gpd.sjoin(TAZ, ZIP_code, how='left', predicate='intersects')\n",
    "\n",
    "#Counting if there is any NA\n",
    "print(f'We have {TAZ_to_ZIP['GEOID10'].isna().sum()} TAZs that dont have a ZIP code')\n",
    "\n",
    "#Creating a dataframe that has all the TAZs that are not assigned to anything\n",
    "Missing_TAZ = TAZ_to_ZIP[TAZ_to_ZIP['GEOID10'].isna()]"
   ],
   "id": "9ace29a1736736e0",
   "outputs": [
    {
     "name": "stdout",
     "output_type": "stream",
     "text": [
      "We have 94 TAZs that dont have a ZIP code\n"
     ]
    }
   ],
   "execution_count": 25
  },
  {
   "metadata": {
    "ExecuteTime": {
     "end_time": "2025-07-30T17:02:16.476408Z",
     "start_time": "2025-07-30T17:02:16.413257Z"
    }
   },
   "cell_type": "code",
   "source": [
    "#Getting the whole geometry and not just the centroids\n",
    "Missing_TAZ_a = TAZ_original.loc[\n",
    "    TAZ_original['taz'].isin(Missing_TAZ['taz'])].to_crs(epsg_work)\n",
    "\n",
    "#Making an intersect because I'm lazy\n",
    "TAZ_to_ZIP_missing = gpd.sjoin(Missing_TAZ_a, ZIP_code, how='left', predicate='intersects')\n",
    "\n",
    "#Assigning it to the first one that intersects it because im lazy\n",
    "TAZ_to_ZIP_missing = TAZ_to_ZIP_missing.groupby('taz').first().reset_index()\n",
    "\n",
    "#Creating a dataframe that has all the assigned TAZ's and zipcodes with the centroid method\n",
    "#And getting the original geometry\n",
    "TAZ_to_ZIP_NONA = TAZ_to_ZIP.dropna()\n",
    "TAZ_to_ZIP_NONA.loc[:,'geometry'] = TAZ_original[TAZ_original['taz'].isin(TAZ_to_ZIP_NONA['taz'])].loc[:,'geometry']\n",
    "TAZ_to_ZIP_NONA"
   ],
   "id": "14fdf140beaf1059",
   "outputs": [
    {
     "data": {
      "text/plain": [
       "         taz  park        acres                                GlobalID  \\\n",
       "1        2.0   0.0   120.755587  {D5383690-0E2A-43B7-81DC-A17CFA9645B0}   \n",
       "2        3.0   0.0   124.332936  {4A65D6B2-0DFD-447F-B74C-8A2233E81DBF}   \n",
       "3        4.0   0.0   112.086215  {21D4918A-BD56-4A8B-A59F-772BD6734ED0}   \n",
       "4        5.0   0.0    57.157023  {40947E9A-D688-4C0D-A90B-70BCAA660DE0}   \n",
       "5        6.0   0.0    64.596333  {9F6F447D-0DEF-43CB-AC31-C7B30B215781}   \n",
       "...      ...   ...          ...                                     ...   \n",
       "3694  3695.0   0.0   881.314909  {90009063-1302-4196-89A7-396E9A7C87E8}   \n",
       "3695  3696.0   0.0   985.847070  {2363DDFD-B98C-4A69-A871-C38D6885885C}   \n",
       "3696  3697.0   0.0  2609.642770  {564442F1-C923-4F7D-8D18-44DDE3C9978F}   \n",
       "3697  3698.0   0.0   641.622735  {A668A34C-6202-41A1-B839-736188CE6670}   \n",
       "3698  3699.0   0.0  3095.122859  {273D851F-C04B-4029-8469-73AD6F8497C4}   \n",
       "\n",
       "      Shape_Length    Shape_Area  \\\n",
       "1     10591.087634  5.260092e+06   \n",
       "2      9555.337706  5.415921e+06   \n",
       "3      9618.098623  4.882456e+06   \n",
       "4      7807.650622  2.489750e+06   \n",
       "5      8039.365290  2.813805e+06   \n",
       "...            ...           ...   \n",
       "3694  29909.701955  3.838992e+07   \n",
       "3695  30514.017509  4.294333e+07   \n",
       "3696  43581.705129  1.136756e+08   \n",
       "3697  31374.018528  2.794898e+07   \n",
       "3698  65860.215701  1.348230e+08   \n",
       "\n",
       "                                               geometry  index_right GEOID10  \n",
       "1     MULTIPOLYGON (((1265788.093 268180.249, 126577...      20801.0   98133  \n",
       "2     MULTIPOLYGON (((1265848.689 271492.146, 126617...      20801.0   98133  \n",
       "3     MULTIPOLYGON (((1267095.215 269151.901, 126728...      20801.0   98133  \n",
       "4     MULTIPOLYGON (((1270732.726 269633.63, 1271063...      20801.0   98133  \n",
       "5     MULTIPOLYGON (((1271071.927 270062.991, 127106...      20801.0   98133  \n",
       "...                                                 ...          ...     ...  \n",
       "3694  MULTIPOLYGON (((1220136.14 239284.827, 1220912...      20787.0   98110  \n",
       "3695  MULTIPOLYGON (((1213639.678 239372.617, 121371...      20787.0   98110  \n",
       "3696  MULTIPOLYGON (((1212031.956 234139.577, 121203...      20787.0   98110  \n",
       "3697  MULTIPOLYGON (((1219221.496 231349.083, 121923...      20787.0   98110  \n",
       "3698  MULTIPOLYGON (((1223293.588 230473.96, 1224169...      20787.0   98110  \n",
       "\n",
       "[3606 rows x 9 columns]"
      ],
      "text/html": [
       "<div>\n",
       "<style scoped>\n",
       "    .dataframe tbody tr th:only-of-type {\n",
       "        vertical-align: middle;\n",
       "    }\n",
       "\n",
       "    .dataframe tbody tr th {\n",
       "        vertical-align: top;\n",
       "    }\n",
       "\n",
       "    .dataframe thead th {\n",
       "        text-align: right;\n",
       "    }\n",
       "</style>\n",
       "<table border=\"1\" class=\"dataframe\">\n",
       "  <thead>\n",
       "    <tr style=\"text-align: right;\">\n",
       "      <th></th>\n",
       "      <th>taz</th>\n",
       "      <th>park</th>\n",
       "      <th>acres</th>\n",
       "      <th>GlobalID</th>\n",
       "      <th>Shape_Length</th>\n",
       "      <th>Shape_Area</th>\n",
       "      <th>geometry</th>\n",
       "      <th>index_right</th>\n",
       "      <th>GEOID10</th>\n",
       "    </tr>\n",
       "  </thead>\n",
       "  <tbody>\n",
       "    <tr>\n",
       "      <th>1</th>\n",
       "      <td>2.0</td>\n",
       "      <td>0.0</td>\n",
       "      <td>120.755587</td>\n",
       "      <td>{D5383690-0E2A-43B7-81DC-A17CFA9645B0}</td>\n",
       "      <td>10591.087634</td>\n",
       "      <td>5.260092e+06</td>\n",
       "      <td>MULTIPOLYGON (((1265788.093 268180.249, 126577...</td>\n",
       "      <td>20801.0</td>\n",
       "      <td>98133</td>\n",
       "    </tr>\n",
       "    <tr>\n",
       "      <th>2</th>\n",
       "      <td>3.0</td>\n",
       "      <td>0.0</td>\n",
       "      <td>124.332936</td>\n",
       "      <td>{4A65D6B2-0DFD-447F-B74C-8A2233E81DBF}</td>\n",
       "      <td>9555.337706</td>\n",
       "      <td>5.415921e+06</td>\n",
       "      <td>MULTIPOLYGON (((1265848.689 271492.146, 126617...</td>\n",
       "      <td>20801.0</td>\n",
       "      <td>98133</td>\n",
       "    </tr>\n",
       "    <tr>\n",
       "      <th>3</th>\n",
       "      <td>4.0</td>\n",
       "      <td>0.0</td>\n",
       "      <td>112.086215</td>\n",
       "      <td>{21D4918A-BD56-4A8B-A59F-772BD6734ED0}</td>\n",
       "      <td>9618.098623</td>\n",
       "      <td>4.882456e+06</td>\n",
       "      <td>MULTIPOLYGON (((1267095.215 269151.901, 126728...</td>\n",
       "      <td>20801.0</td>\n",
       "      <td>98133</td>\n",
       "    </tr>\n",
       "    <tr>\n",
       "      <th>4</th>\n",
       "      <td>5.0</td>\n",
       "      <td>0.0</td>\n",
       "      <td>57.157023</td>\n",
       "      <td>{40947E9A-D688-4C0D-A90B-70BCAA660DE0}</td>\n",
       "      <td>7807.650622</td>\n",
       "      <td>2.489750e+06</td>\n",
       "      <td>MULTIPOLYGON (((1270732.726 269633.63, 1271063...</td>\n",
       "      <td>20801.0</td>\n",
       "      <td>98133</td>\n",
       "    </tr>\n",
       "    <tr>\n",
       "      <th>5</th>\n",
       "      <td>6.0</td>\n",
       "      <td>0.0</td>\n",
       "      <td>64.596333</td>\n",
       "      <td>{9F6F447D-0DEF-43CB-AC31-C7B30B215781}</td>\n",
       "      <td>8039.365290</td>\n",
       "      <td>2.813805e+06</td>\n",
       "      <td>MULTIPOLYGON (((1271071.927 270062.991, 127106...</td>\n",
       "      <td>20801.0</td>\n",
       "      <td>98133</td>\n",
       "    </tr>\n",
       "    <tr>\n",
       "      <th>...</th>\n",
       "      <td>...</td>\n",
       "      <td>...</td>\n",
       "      <td>...</td>\n",
       "      <td>...</td>\n",
       "      <td>...</td>\n",
       "      <td>...</td>\n",
       "      <td>...</td>\n",
       "      <td>...</td>\n",
       "      <td>...</td>\n",
       "    </tr>\n",
       "    <tr>\n",
       "      <th>3694</th>\n",
       "      <td>3695.0</td>\n",
       "      <td>0.0</td>\n",
       "      <td>881.314909</td>\n",
       "      <td>{90009063-1302-4196-89A7-396E9A7C87E8}</td>\n",
       "      <td>29909.701955</td>\n",
       "      <td>3.838992e+07</td>\n",
       "      <td>MULTIPOLYGON (((1220136.14 239284.827, 1220912...</td>\n",
       "      <td>20787.0</td>\n",
       "      <td>98110</td>\n",
       "    </tr>\n",
       "    <tr>\n",
       "      <th>3695</th>\n",
       "      <td>3696.0</td>\n",
       "      <td>0.0</td>\n",
       "      <td>985.847070</td>\n",
       "      <td>{2363DDFD-B98C-4A69-A871-C38D6885885C}</td>\n",
       "      <td>30514.017509</td>\n",
       "      <td>4.294333e+07</td>\n",
       "      <td>MULTIPOLYGON (((1213639.678 239372.617, 121371...</td>\n",
       "      <td>20787.0</td>\n",
       "      <td>98110</td>\n",
       "    </tr>\n",
       "    <tr>\n",
       "      <th>3696</th>\n",
       "      <td>3697.0</td>\n",
       "      <td>0.0</td>\n",
       "      <td>2609.642770</td>\n",
       "      <td>{564442F1-C923-4F7D-8D18-44DDE3C9978F}</td>\n",
       "      <td>43581.705129</td>\n",
       "      <td>1.136756e+08</td>\n",
       "      <td>MULTIPOLYGON (((1212031.956 234139.577, 121203...</td>\n",
       "      <td>20787.0</td>\n",
       "      <td>98110</td>\n",
       "    </tr>\n",
       "    <tr>\n",
       "      <th>3697</th>\n",
       "      <td>3698.0</td>\n",
       "      <td>0.0</td>\n",
       "      <td>641.622735</td>\n",
       "      <td>{A668A34C-6202-41A1-B839-736188CE6670}</td>\n",
       "      <td>31374.018528</td>\n",
       "      <td>2.794898e+07</td>\n",
       "      <td>MULTIPOLYGON (((1219221.496 231349.083, 121923...</td>\n",
       "      <td>20787.0</td>\n",
       "      <td>98110</td>\n",
       "    </tr>\n",
       "    <tr>\n",
       "      <th>3698</th>\n",
       "      <td>3699.0</td>\n",
       "      <td>0.0</td>\n",
       "      <td>3095.122859</td>\n",
       "      <td>{273D851F-C04B-4029-8469-73AD6F8497C4}</td>\n",
       "      <td>65860.215701</td>\n",
       "      <td>1.348230e+08</td>\n",
       "      <td>MULTIPOLYGON (((1223293.588 230473.96, 1224169...</td>\n",
       "      <td>20787.0</td>\n",
       "      <td>98110</td>\n",
       "    </tr>\n",
       "  </tbody>\n",
       "</table>\n",
       "<p>3606 rows × 9 columns</p>\n",
       "</div>"
      ]
     },
     "execution_count": 26,
     "metadata": {},
     "output_type": "execute_result"
    }
   ],
   "execution_count": 26
  },
  {
   "metadata": {
    "ExecuteTime": {
     "end_time": "2025-07-30T17:02:18.724114Z",
     "start_time": "2025-07-30T17:02:18.658715Z"
    }
   },
   "cell_type": "code",
   "source": [
    "#Meshing both methods to get all TAZs assigned to their ZIPCodes\n",
    "TAZ_to_ZIP = pd.concat([TAZ_to_ZIP_NONA, TAZ_to_ZIP_missing])\n",
    "# TAZ_to_ZIP.isna().sum()\n",
    "TAZ_to_ZIP.shape[0]\n",
    "#WE GOT EM BOSS"
   ],
   "id": "b668d5a91b1f9c54",
   "outputs": [
    {
     "name": "stderr",
     "output_type": "stream",
     "text": [
      "C:\\Users\\olive\\anaconda3\\envs\\OD_matrix2\\Lib\\site-packages\\geopandas\\array.py:1754: UserWarning: CRS not set for some of the concatenation inputs. Setting output's CRS as NAD83 / UTM zone 10N (the single non-null crs provided).\n",
      "  return GeometryArray(data, crs=_get_common_crs(to_concat))\n"
     ]
    },
    {
     "data": {
      "text/plain": [
       "3700"
      ]
     },
     "execution_count": 27,
     "metadata": {},
     "output_type": "execute_result"
    }
   ],
   "execution_count": 27
  },
  {
   "metadata": {
    "ExecuteTime": {
     "end_time": "2025-07-30T17:02:20.281520Z",
     "start_time": "2025-07-30T17:02:20.269080Z"
    }
   },
   "cell_type": "code",
   "source": [
    "#List of all the ZIP codes used\n",
    "Unique_ZIPS = TAZ_to_ZIP['GEOID10'].unique()\n",
    "Unique_ZIPS = sorted(Unique_ZIPS.astype(int).tolist())\n",
    "\n",
    "#List of all TAZs used\n",
    "Unique_TAZs = TAZ_original['taz'].unique().astype(int).tolist()\n"
   ],
   "id": "1dbd9b3eb07b9507",
   "outputs": [],
   "execution_count": 28
  },
  {
   "metadata": {
    "ExecuteTime": {
     "end_time": "2025-07-30T17:02:21.792090Z",
     "start_time": "2025-07-30T17:02:21.780783Z"
    }
   },
   "cell_type": "code",
   "source": "len(Unique_ZIPS)",
   "id": "36aa113106c9d724",
   "outputs": [
    {
     "data": {
      "text/plain": [
       "179"
      ]
     },
     "execution_count": 29,
     "metadata": {},
     "output_type": "execute_result"
    }
   ],
   "execution_count": 29
  },
  {
   "metadata": {
    "ExecuteTime": {
     "end_time": "2025-07-30T17:02:23.225907Z",
     "start_time": "2025-07-30T17:02:23.166043Z"
    }
   },
   "cell_type": "code",
   "source": [
    "#Creating a dictionary where the keys are the Zipcodes and the values are the vectors that have the TAZs assigned to that zipcode\n",
    "ZIP_dict = {}\n",
    "for ZIP in Unique_ZIPS:\n",
    "    ZIP_dict[f'{ZIP}'] = TAZ_to_ZIP.loc[TAZ_to_ZIP['GEOID10'] == str(ZIP), 'taz'].astype(int).tolist()\n"
   ],
   "id": "fa8fae9e3a95c413",
   "outputs": [],
   "execution_count": 30
  },
  {
   "metadata": {},
   "cell_type": "markdown",
   "source": "# Assigning the OD to each zipcode",
   "id": "d9deffa71ac86922"
  },
  {
   "metadata": {
    "ExecuteTime": {
     "end_time": "2025-07-30T17:02:25.509996Z",
     "start_time": "2025-07-30T17:02:25.502770Z"
    }
   },
   "cell_type": "code",
   "source": [
    "#Loading the OD thing\n",
    "# OD_PSRC = h5py.File('data/PSRC/17to18.h5', 'r')\n",
    "# OD_SOV = pd.DataFrame(OD_PSRC['sov_inc2'][:,:])\n",
    "\n",
    "#I believe the examples they gave us are wrong, gonna use the _trip.tsv file they provided to get the OD matrix at the TAZ level\n",
    "#Done in OD_matrix_TAZ file"
   ],
   "id": "3fd218221f6b3a3c",
   "outputs": [],
   "execution_count": 31
  },
  {
   "metadata": {},
   "cell_type": "markdown",
   "source": "### Trying the aggregation method I devised",
   "id": "69a5be9bb0b54a88"
  },
  {
   "metadata": {
    "ExecuteTime": {
     "end_time": "2025-07-30T17:02:27.327366Z",
     "start_time": "2025-07-30T17:02:27.323112Z"
    }
   },
   "cell_type": "code",
   "source": [
    "# random_data = np.random.rand(12, 12).round(decimals=1)*10\n",
    "#\n",
    "# df_rand = pd.DataFrame(random_data)\n",
    "# df_rand"
   ],
   "id": "d7c7b20558dde99c",
   "outputs": [],
   "execution_count": 32
  },
  {
   "metadata": {
    "ExecuteTime": {
     "end_time": "2025-07-30T17:02:28.020302Z",
     "start_time": "2025-07-30T17:02:28.016022Z"
    }
   },
   "cell_type": "code",
   "source": [
    "# df_rand_dict ={\n",
    "#     '100': [0, 1],\n",
    "#     '200': [2, 3,4,5],\n",
    "#     '300': [6, 7,8,9],\n",
    "#     '400': [10, 11],\n",
    "#     }"
   ],
   "id": "d61fb669a3c9eb6d",
   "outputs": [],
   "execution_count": 33
  },
  {
   "metadata": {
    "ExecuteTime": {
     "end_time": "2025-07-30T17:02:28.708060Z",
     "start_time": "2025-07-30T17:02:28.701244Z"
    }
   },
   "cell_type": "code",
   "source": [
    "# agg_df_rand = pd.DataFrame()\n",
    "# for keys_row, values_row in df_rand_dict.items():\n",
    "#     for keys_col, values_col in df_rand_dict.items():\n",
    "#         agg_df_rand.loc[keys_row, keys_col] = df_rand.loc[\n",
    "#             df_rand_dict[keys_row],\n",
    "#             df_rand_dict[keys_col]\n",
    "#         ].sum().sum()\n",
    "#\n",
    "# agg_df_rand"
   ],
   "id": "337dce786007abe2",
   "outputs": [],
   "execution_count": 34
  },
  {
   "metadata": {},
   "cell_type": "markdown",
   "source": "## Actually Aggregating",
   "id": "faecf674ba3942e5"
  },
  {
   "metadata": {},
   "cell_type": "markdown",
   "source": "Gonna use the **OD_8to9** that I created from the *OD_matrix_TAZ* file in this project",
   "id": "c9854cf974dd48e6"
  },
  {
   "metadata": {
    "ExecuteTime": {
     "end_time": "2025-07-30T17:14:07.008878Z",
     "start_time": "2025-07-30T17:14:07.003657Z"
    }
   },
   "cell_type": "code",
   "source": [
    "#Setting the timeframe that we'll use\n",
    "timeframe = '8to9'"
   ],
   "id": "36c970552d3f8ee0",
   "outputs": [],
   "execution_count": 45
  },
  {
   "metadata": {
    "ExecuteTime": {
     "end_time": "2025-07-30T17:14:10.056541Z",
     "start_time": "2025-07-30T17:14:08.814176Z"
    }
   },
   "cell_type": "code",
   "source": [
    "OD = {\n",
    "    'SOV': pd.read_csv(f'data/PSRC/PSRC_OO/{timeframe}_SOV.csv'),\n",
    "    'HOV': pd.read_csv(f'data/PSRC/PSRC_OO/{timeframe}_HOV.csv')\n",
    "}\n",
    "OD['SOV'].index = OD['SOV']['otaz']\n",
    "OD['SOV'].drop('otaz', axis=1, inplace=True)\n",
    "OD['SOV'].columns = OD['SOV'].columns.astype(int)\n",
    "\n",
    "\n",
    "OD['HOV'].index = OD['HOV']['otaz']\n",
    "OD['HOV'].drop('otaz', axis=1, inplace=True)\n",
    "OD['HOV'].columns = OD['HOV'].columns.astype(int)\n"
   ],
   "id": "31e689a3d5e3e703",
   "outputs": [],
   "execution_count": 46
  },
  {
   "metadata": {
    "ExecuteTime": {
     "end_time": "2025-07-30T17:14:25.938181Z",
     "start_time": "2025-07-30T17:14:24.842299Z"
    }
   },
   "cell_type": "code",
   "source": [
    "#Adding the tazs that did not appear as either origins or destinations in the trips.tsv file\n",
    "for keys in OD.keys():\n",
    "    missing_columns = [item for item in Unique_TAZs if item not in OD[keys].columns.tolist()]\n",
    "    missing_index = [item for item in Unique_TAZs if item not in OD[keys].index.tolist()]\n",
    "    OD[keys] = OD[keys].reindex(OD[keys].index.tolist() + missing_index)\n",
    "    OD[keys] = OD[keys].reindex(columns = OD[keys].columns.tolist() + missing_columns)\n",
    "    OD[keys] = OD[keys].fillna(0)\n",
    "\n"
   ],
   "id": "e913453fb143222f",
   "outputs": [],
   "execution_count": 47
  },
  {
   "metadata": {
    "ExecuteTime": {
     "end_time": "2025-07-30T17:14:31.729756Z",
     "start_time": "2025-07-30T17:14:31.715059Z"
    }
   },
   "cell_type": "code",
   "source": [
    "#Creating the OD matrix\n",
    "#Getting all the zips that are present in transmodeler\n",
    "all_zips_trans = pd.read_csv('data/All_ZIPS.csv')\n",
    "#Creating the OD-Matric with these columns and rows (makes it easier to take it to TM)\n",
    "OD_matrix = {\n",
    "    'SOV': pd.DataFrame(np.zeros([all_zips_trans.shape[1], all_zips_trans.shape[1]])),\n",
    "    'HOV': pd.DataFrame(np.zeros([all_zips_trans.shape[1], all_zips_trans.shape[1]]))\n",
    "}\n",
    "for keys in OD_matrix.keys():\n",
    "    OD_matrix[keys].index = all_zips_trans.columns\n",
    "    OD_matrix[keys].columns = all_zips_trans.columns"
   ],
   "id": "6f4743e57d866375",
   "outputs": [],
   "execution_count": 48
  },
  {
   "metadata": {
    "ExecuteTime": {
     "end_time": "2025-07-30T17:14:59.993863Z",
     "start_time": "2025-07-30T17:14:33.119099Z"
    }
   },
   "cell_type": "code",
   "source": [
    "for mode in OD.keys():\n",
    "    for zip1, rows in ZIP_dict.items():\n",
    "        for zip2, cols in ZIP_dict.items():\n",
    "            if zip1 in all_zips_trans.columns and zip2 in all_zips_trans.columns:\n",
    "                try:\n",
    "                    value = OD[mode].iloc[\n",
    "                        ZIP_dict[zip1],\n",
    "                        ZIP_dict[zip2]\n",
    "                    ].sum().sum()\n",
    "                    OD_matrix[mode].loc[zip1, zip2] = value\n",
    "                except IndexError as e:\n",
    "                    print(f\"IndexError for mode={mode}, zip1={zip1}, zip2={zip2}\")\n",
    "                    print(f\"ZIP_dict[zip1]={ZIP_dict[zip1]}, ZIP_dict[zip2]={ZIP_dict[zip2]}\")\n",
    "                    raise e  # re-raise to stop execution or remove to continue\n"
   ],
   "id": "4e2381367446e748",
   "outputs": [],
   "execution_count": 49
  },
  {
   "metadata": {
    "ExecuteTime": {
     "end_time": "2025-07-30T17:16:36.104146Z",
     "start_time": "2025-07-30T17:16:36.092281Z"
    }
   },
   "cell_type": "code",
   "source": "OD_matrix['SOV'].sum().sum()",
   "id": "1300ce14f43b7b87",
   "outputs": [
    {
     "data": {
      "text/plain": [
       "np.float64(469153.0)"
      ]
     },
     "execution_count": 50,
     "metadata": {},
     "output_type": "execute_result"
    }
   ],
   "execution_count": 50
  },
  {
   "metadata": {},
   "cell_type": "markdown",
   "source": "# Doing it for the trucks",
   "id": "c59d98bfaecc8cae"
  },
  {
   "metadata": {
    "ExecuteTime": {
     "end_time": "2025-07-30T17:16:39.486004Z",
     "start_time": "2025-07-30T17:16:39.041962Z"
    }
   },
   "cell_type": "code",
   "source": [
    "trucks = h5py.File('data/PSRC/truck_trips.h5')\n",
    "df_trucks = {\n",
    "    'heavyDuty': pd.DataFrame(trucks['am']['mfam_hvytrk_trips'][:,:]),\n",
    "    'mediumDuty': pd.DataFrame(trucks['am']['mfam_medtrk_trips'][:,:])\n",
    "}\n",
    "\n",
    "for keys in df_trucks:\n",
    "    df_trucks[keys].index = pd.RangeIndex(1,4001,1)\n",
    "    df_trucks[keys].columns = pd.RangeIndex(1,4001,1)\n",
    "# trucks['am'][:,:].sum()"
   ],
   "id": "d96355d0b9aa3272",
   "outputs": [],
   "execution_count": 51
  },
  {
   "metadata": {
    "ExecuteTime": {
     "end_time": "2025-07-30T17:16:42.004793Z",
     "start_time": "2025-07-30T17:16:41.997470Z"
    }
   },
   "cell_type": "code",
   "source": [
    "for keys in df_trucks:\n",
    "    OD_matrix[keys] = pd.DataFrame()\n",
    "\n",
    "OD_matrix.keys()"
   ],
   "id": "c38be91852b21821",
   "outputs": [
    {
     "data": {
      "text/plain": [
       "dict_keys(['SOV', 'HOV', 'heavyDuty', 'mediumDuty'])"
      ]
     },
     "execution_count": 52,
     "metadata": {},
     "output_type": "execute_result"
    }
   ],
   "execution_count": 52
  },
  {
   "metadata": {
    "ExecuteTime": {
     "end_time": "2025-07-30T17:17:34.295279Z",
     "start_time": "2025-07-30T17:16:43.875899Z"
    }
   },
   "cell_type": "code",
   "source": [
    "for mode in df_trucks.keys():\n",
    "    for zip1, rows in ZIP_dict.items():\n",
    "        for zip2, cols in ZIP_dict.items():\n",
    "            if zip1 in all_zips_trans.columns and zip2 in all_zips_trans.columns:\n",
    "                try:\n",
    "                    value = df_trucks[mode].iloc[\n",
    "                        ZIP_dict[zip1],\n",
    "                        ZIP_dict[zip2]\n",
    "                    ].sum().sum()\n",
    "                    OD_matrix[mode].loc[zip1, zip2] = value\n",
    "                except IndexError as e:\n",
    "                    print(f\"IndexError for mode={mode}, zip1={zip1}, zip2={zip2}\")\n",
    "                    print(f\"ZIP_dict[zip1]={ZIP_dict[zip1]}, ZIP_dict[zip2]={ZIP_dict[zip2]}\")\n",
    "                    raise e  # re-raise to stop execution or remove to continue"
   ],
   "id": "201ef66216f6b82",
   "outputs": [
    {
     "name": "stderr",
     "output_type": "stream",
     "text": [
      "C:\\Users\\olive\\AppData\\Local\\Temp\\ipykernel_24948\\3621653985.py:10: PerformanceWarning: DataFrame is highly fragmented.  This is usually the result of calling `frame.insert` many times, which has poor performance.  Consider joining all columns at once using pd.concat(axis=1) instead. To get a de-fragmented frame, use `newframe = frame.copy()`\n",
      "  OD_matrix[mode].loc[zip1, zip2] = value\n",
      "C:\\Users\\olive\\AppData\\Local\\Temp\\ipykernel_24948\\3621653985.py:10: PerformanceWarning: DataFrame is highly fragmented.  This is usually the result of calling `frame.insert` many times, which has poor performance.  Consider joining all columns at once using pd.concat(axis=1) instead. To get a de-fragmented frame, use `newframe = frame.copy()`\n",
      "  OD_matrix[mode].loc[zip1, zip2] = value\n",
      "C:\\Users\\olive\\AppData\\Local\\Temp\\ipykernel_24948\\3621653985.py:10: PerformanceWarning: DataFrame is highly fragmented.  This is usually the result of calling `frame.insert` many times, which has poor performance.  Consider joining all columns at once using pd.concat(axis=1) instead. To get a de-fragmented frame, use `newframe = frame.copy()`\n",
      "  OD_matrix[mode].loc[zip1, zip2] = value\n",
      "C:\\Users\\olive\\AppData\\Local\\Temp\\ipykernel_24948\\3621653985.py:10: PerformanceWarning: DataFrame is highly fragmented.  This is usually the result of calling `frame.insert` many times, which has poor performance.  Consider joining all columns at once using pd.concat(axis=1) instead. To get a de-fragmented frame, use `newframe = frame.copy()`\n",
      "  OD_matrix[mode].loc[zip1, zip2] = value\n",
      "C:\\Users\\olive\\AppData\\Local\\Temp\\ipykernel_24948\\3621653985.py:10: PerformanceWarning: DataFrame is highly fragmented.  This is usually the result of calling `frame.insert` many times, which has poor performance.  Consider joining all columns at once using pd.concat(axis=1) instead. To get a de-fragmented frame, use `newframe = frame.copy()`\n",
      "  OD_matrix[mode].loc[zip1, zip2] = value\n",
      "C:\\Users\\olive\\AppData\\Local\\Temp\\ipykernel_24948\\3621653985.py:10: PerformanceWarning: DataFrame is highly fragmented.  This is usually the result of calling `frame.insert` many times, which has poor performance.  Consider joining all columns at once using pd.concat(axis=1) instead. To get a de-fragmented frame, use `newframe = frame.copy()`\n",
      "  OD_matrix[mode].loc[zip1, zip2] = value\n",
      "C:\\Users\\olive\\AppData\\Local\\Temp\\ipykernel_24948\\3621653985.py:10: PerformanceWarning: DataFrame is highly fragmented.  This is usually the result of calling `frame.insert` many times, which has poor performance.  Consider joining all columns at once using pd.concat(axis=1) instead. To get a de-fragmented frame, use `newframe = frame.copy()`\n",
      "  OD_matrix[mode].loc[zip1, zip2] = value\n",
      "C:\\Users\\olive\\AppData\\Local\\Temp\\ipykernel_24948\\3621653985.py:10: PerformanceWarning: DataFrame is highly fragmented.  This is usually the result of calling `frame.insert` many times, which has poor performance.  Consider joining all columns at once using pd.concat(axis=1) instead. To get a de-fragmented frame, use `newframe = frame.copy()`\n",
      "  OD_matrix[mode].loc[zip1, zip2] = value\n",
      "C:\\Users\\olive\\AppData\\Local\\Temp\\ipykernel_24948\\3621653985.py:10: PerformanceWarning: DataFrame is highly fragmented.  This is usually the result of calling `frame.insert` many times, which has poor performance.  Consider joining all columns at once using pd.concat(axis=1) instead. To get a de-fragmented frame, use `newframe = frame.copy()`\n",
      "  OD_matrix[mode].loc[zip1, zip2] = value\n",
      "C:\\Users\\olive\\AppData\\Local\\Temp\\ipykernel_24948\\3621653985.py:10: PerformanceWarning: DataFrame is highly fragmented.  This is usually the result of calling `frame.insert` many times, which has poor performance.  Consider joining all columns at once using pd.concat(axis=1) instead. To get a de-fragmented frame, use `newframe = frame.copy()`\n",
      "  OD_matrix[mode].loc[zip1, zip2] = value\n",
      "C:\\Users\\olive\\AppData\\Local\\Temp\\ipykernel_24948\\3621653985.py:10: PerformanceWarning: DataFrame is highly fragmented.  This is usually the result of calling `frame.insert` many times, which has poor performance.  Consider joining all columns at once using pd.concat(axis=1) instead. To get a de-fragmented frame, use `newframe = frame.copy()`\n",
      "  OD_matrix[mode].loc[zip1, zip2] = value\n",
      "C:\\Users\\olive\\AppData\\Local\\Temp\\ipykernel_24948\\3621653985.py:10: PerformanceWarning: DataFrame is highly fragmented.  This is usually the result of calling `frame.insert` many times, which has poor performance.  Consider joining all columns at once using pd.concat(axis=1) instead. To get a de-fragmented frame, use `newframe = frame.copy()`\n",
      "  OD_matrix[mode].loc[zip1, zip2] = value\n",
      "C:\\Users\\olive\\AppData\\Local\\Temp\\ipykernel_24948\\3621653985.py:10: PerformanceWarning: DataFrame is highly fragmented.  This is usually the result of calling `frame.insert` many times, which has poor performance.  Consider joining all columns at once using pd.concat(axis=1) instead. To get a de-fragmented frame, use `newframe = frame.copy()`\n",
      "  OD_matrix[mode].loc[zip1, zip2] = value\n",
      "C:\\Users\\olive\\AppData\\Local\\Temp\\ipykernel_24948\\3621653985.py:10: PerformanceWarning: DataFrame is highly fragmented.  This is usually the result of calling `frame.insert` many times, which has poor performance.  Consider joining all columns at once using pd.concat(axis=1) instead. To get a de-fragmented frame, use `newframe = frame.copy()`\n",
      "  OD_matrix[mode].loc[zip1, zip2] = value\n",
      "C:\\Users\\olive\\AppData\\Local\\Temp\\ipykernel_24948\\3621653985.py:10: PerformanceWarning: DataFrame is highly fragmented.  This is usually the result of calling `frame.insert` many times, which has poor performance.  Consider joining all columns at once using pd.concat(axis=1) instead. To get a de-fragmented frame, use `newframe = frame.copy()`\n",
      "  OD_matrix[mode].loc[zip1, zip2] = value\n",
      "C:\\Users\\olive\\AppData\\Local\\Temp\\ipykernel_24948\\3621653985.py:10: PerformanceWarning: DataFrame is highly fragmented.  This is usually the result of calling `frame.insert` many times, which has poor performance.  Consider joining all columns at once using pd.concat(axis=1) instead. To get a de-fragmented frame, use `newframe = frame.copy()`\n",
      "  OD_matrix[mode].loc[zip1, zip2] = value\n",
      "C:\\Users\\olive\\AppData\\Local\\Temp\\ipykernel_24948\\3621653985.py:10: PerformanceWarning: DataFrame is highly fragmented.  This is usually the result of calling `frame.insert` many times, which has poor performance.  Consider joining all columns at once using pd.concat(axis=1) instead. To get a de-fragmented frame, use `newframe = frame.copy()`\n",
      "  OD_matrix[mode].loc[zip1, zip2] = value\n",
      "C:\\Users\\olive\\AppData\\Local\\Temp\\ipykernel_24948\\3621653985.py:10: PerformanceWarning: DataFrame is highly fragmented.  This is usually the result of calling `frame.insert` many times, which has poor performance.  Consider joining all columns at once using pd.concat(axis=1) instead. To get a de-fragmented frame, use `newframe = frame.copy()`\n",
      "  OD_matrix[mode].loc[zip1, zip2] = value\n",
      "C:\\Users\\olive\\AppData\\Local\\Temp\\ipykernel_24948\\3621653985.py:10: PerformanceWarning: DataFrame is highly fragmented.  This is usually the result of calling `frame.insert` many times, which has poor performance.  Consider joining all columns at once using pd.concat(axis=1) instead. To get a de-fragmented frame, use `newframe = frame.copy()`\n",
      "  OD_matrix[mode].loc[zip1, zip2] = value\n",
      "C:\\Users\\olive\\AppData\\Local\\Temp\\ipykernel_24948\\3621653985.py:10: PerformanceWarning: DataFrame is highly fragmented.  This is usually the result of calling `frame.insert` many times, which has poor performance.  Consider joining all columns at once using pd.concat(axis=1) instead. To get a de-fragmented frame, use `newframe = frame.copy()`\n",
      "  OD_matrix[mode].loc[zip1, zip2] = value\n",
      "C:\\Users\\olive\\AppData\\Local\\Temp\\ipykernel_24948\\3621653985.py:10: PerformanceWarning: DataFrame is highly fragmented.  This is usually the result of calling `frame.insert` many times, which has poor performance.  Consider joining all columns at once using pd.concat(axis=1) instead. To get a de-fragmented frame, use `newframe = frame.copy()`\n",
      "  OD_matrix[mode].loc[zip1, zip2] = value\n",
      "C:\\Users\\olive\\AppData\\Local\\Temp\\ipykernel_24948\\3621653985.py:10: PerformanceWarning: DataFrame is highly fragmented.  This is usually the result of calling `frame.insert` many times, which has poor performance.  Consider joining all columns at once using pd.concat(axis=1) instead. To get a de-fragmented frame, use `newframe = frame.copy()`\n",
      "  OD_matrix[mode].loc[zip1, zip2] = value\n",
      "C:\\Users\\olive\\AppData\\Local\\Temp\\ipykernel_24948\\3621653985.py:10: PerformanceWarning: DataFrame is highly fragmented.  This is usually the result of calling `frame.insert` many times, which has poor performance.  Consider joining all columns at once using pd.concat(axis=1) instead. To get a de-fragmented frame, use `newframe = frame.copy()`\n",
      "  OD_matrix[mode].loc[zip1, zip2] = value\n",
      "C:\\Users\\olive\\AppData\\Local\\Temp\\ipykernel_24948\\3621653985.py:10: PerformanceWarning: DataFrame is highly fragmented.  This is usually the result of calling `frame.insert` many times, which has poor performance.  Consider joining all columns at once using pd.concat(axis=1) instead. To get a de-fragmented frame, use `newframe = frame.copy()`\n",
      "  OD_matrix[mode].loc[zip1, zip2] = value\n",
      "C:\\Users\\olive\\AppData\\Local\\Temp\\ipykernel_24948\\3621653985.py:10: PerformanceWarning: DataFrame is highly fragmented.  This is usually the result of calling `frame.insert` many times, which has poor performance.  Consider joining all columns at once using pd.concat(axis=1) instead. To get a de-fragmented frame, use `newframe = frame.copy()`\n",
      "  OD_matrix[mode].loc[zip1, zip2] = value\n",
      "C:\\Users\\olive\\AppData\\Local\\Temp\\ipykernel_24948\\3621653985.py:10: PerformanceWarning: DataFrame is highly fragmented.  This is usually the result of calling `frame.insert` many times, which has poor performance.  Consider joining all columns at once using pd.concat(axis=1) instead. To get a de-fragmented frame, use `newframe = frame.copy()`\n",
      "  OD_matrix[mode].loc[zip1, zip2] = value\n",
      "C:\\Users\\olive\\AppData\\Local\\Temp\\ipykernel_24948\\3621653985.py:10: PerformanceWarning: DataFrame is highly fragmented.  This is usually the result of calling `frame.insert` many times, which has poor performance.  Consider joining all columns at once using pd.concat(axis=1) instead. To get a de-fragmented frame, use `newframe = frame.copy()`\n",
      "  OD_matrix[mode].loc[zip1, zip2] = value\n",
      "C:\\Users\\olive\\AppData\\Local\\Temp\\ipykernel_24948\\3621653985.py:10: PerformanceWarning: DataFrame is highly fragmented.  This is usually the result of calling `frame.insert` many times, which has poor performance.  Consider joining all columns at once using pd.concat(axis=1) instead. To get a de-fragmented frame, use `newframe = frame.copy()`\n",
      "  OD_matrix[mode].loc[zip1, zip2] = value\n",
      "C:\\Users\\olive\\AppData\\Local\\Temp\\ipykernel_24948\\3621653985.py:10: PerformanceWarning: DataFrame is highly fragmented.  This is usually the result of calling `frame.insert` many times, which has poor performance.  Consider joining all columns at once using pd.concat(axis=1) instead. To get a de-fragmented frame, use `newframe = frame.copy()`\n",
      "  OD_matrix[mode].loc[zip1, zip2] = value\n",
      "C:\\Users\\olive\\AppData\\Local\\Temp\\ipykernel_24948\\3621653985.py:10: PerformanceWarning: DataFrame is highly fragmented.  This is usually the result of calling `frame.insert` many times, which has poor performance.  Consider joining all columns at once using pd.concat(axis=1) instead. To get a de-fragmented frame, use `newframe = frame.copy()`\n",
      "  OD_matrix[mode].loc[zip1, zip2] = value\n",
      "C:\\Users\\olive\\AppData\\Local\\Temp\\ipykernel_24948\\3621653985.py:10: PerformanceWarning: DataFrame is highly fragmented.  This is usually the result of calling `frame.insert` many times, which has poor performance.  Consider joining all columns at once using pd.concat(axis=1) instead. To get a de-fragmented frame, use `newframe = frame.copy()`\n",
      "  OD_matrix[mode].loc[zip1, zip2] = value\n",
      "C:\\Users\\olive\\AppData\\Local\\Temp\\ipykernel_24948\\3621653985.py:10: PerformanceWarning: DataFrame is highly fragmented.  This is usually the result of calling `frame.insert` many times, which has poor performance.  Consider joining all columns at once using pd.concat(axis=1) instead. To get a de-fragmented frame, use `newframe = frame.copy()`\n",
      "  OD_matrix[mode].loc[zip1, zip2] = value\n",
      "C:\\Users\\olive\\AppData\\Local\\Temp\\ipykernel_24948\\3621653985.py:10: PerformanceWarning: DataFrame is highly fragmented.  This is usually the result of calling `frame.insert` many times, which has poor performance.  Consider joining all columns at once using pd.concat(axis=1) instead. To get a de-fragmented frame, use `newframe = frame.copy()`\n",
      "  OD_matrix[mode].loc[zip1, zip2] = value\n",
      "C:\\Users\\olive\\AppData\\Local\\Temp\\ipykernel_24948\\3621653985.py:10: PerformanceWarning: DataFrame is highly fragmented.  This is usually the result of calling `frame.insert` many times, which has poor performance.  Consider joining all columns at once using pd.concat(axis=1) instead. To get a de-fragmented frame, use `newframe = frame.copy()`\n",
      "  OD_matrix[mode].loc[zip1, zip2] = value\n",
      "C:\\Users\\olive\\AppData\\Local\\Temp\\ipykernel_24948\\3621653985.py:10: PerformanceWarning: DataFrame is highly fragmented.  This is usually the result of calling `frame.insert` many times, which has poor performance.  Consider joining all columns at once using pd.concat(axis=1) instead. To get a de-fragmented frame, use `newframe = frame.copy()`\n",
      "  OD_matrix[mode].loc[zip1, zip2] = value\n",
      "C:\\Users\\olive\\AppData\\Local\\Temp\\ipykernel_24948\\3621653985.py:10: PerformanceWarning: DataFrame is highly fragmented.  This is usually the result of calling `frame.insert` many times, which has poor performance.  Consider joining all columns at once using pd.concat(axis=1) instead. To get a de-fragmented frame, use `newframe = frame.copy()`\n",
      "  OD_matrix[mode].loc[zip1, zip2] = value\n",
      "C:\\Users\\olive\\AppData\\Local\\Temp\\ipykernel_24948\\3621653985.py:10: PerformanceWarning: DataFrame is highly fragmented.  This is usually the result of calling `frame.insert` many times, which has poor performance.  Consider joining all columns at once using pd.concat(axis=1) instead. To get a de-fragmented frame, use `newframe = frame.copy()`\n",
      "  OD_matrix[mode].loc[zip1, zip2] = value\n",
      "C:\\Users\\olive\\AppData\\Local\\Temp\\ipykernel_24948\\3621653985.py:10: PerformanceWarning: DataFrame is highly fragmented.  This is usually the result of calling `frame.insert` many times, which has poor performance.  Consider joining all columns at once using pd.concat(axis=1) instead. To get a de-fragmented frame, use `newframe = frame.copy()`\n",
      "  OD_matrix[mode].loc[zip1, zip2] = value\n",
      "C:\\Users\\olive\\AppData\\Local\\Temp\\ipykernel_24948\\3621653985.py:10: PerformanceWarning: DataFrame is highly fragmented.  This is usually the result of calling `frame.insert` many times, which has poor performance.  Consider joining all columns at once using pd.concat(axis=1) instead. To get a de-fragmented frame, use `newframe = frame.copy()`\n",
      "  OD_matrix[mode].loc[zip1, zip2] = value\n",
      "C:\\Users\\olive\\AppData\\Local\\Temp\\ipykernel_24948\\3621653985.py:10: PerformanceWarning: DataFrame is highly fragmented.  This is usually the result of calling `frame.insert` many times, which has poor performance.  Consider joining all columns at once using pd.concat(axis=1) instead. To get a de-fragmented frame, use `newframe = frame.copy()`\n",
      "  OD_matrix[mode].loc[zip1, zip2] = value\n",
      "C:\\Users\\olive\\AppData\\Local\\Temp\\ipykernel_24948\\3621653985.py:10: PerformanceWarning: DataFrame is highly fragmented.  This is usually the result of calling `frame.insert` many times, which has poor performance.  Consider joining all columns at once using pd.concat(axis=1) instead. To get a de-fragmented frame, use `newframe = frame.copy()`\n",
      "  OD_matrix[mode].loc[zip1, zip2] = value\n",
      "C:\\Users\\olive\\AppData\\Local\\Temp\\ipykernel_24948\\3621653985.py:10: PerformanceWarning: DataFrame is highly fragmented.  This is usually the result of calling `frame.insert` many times, which has poor performance.  Consider joining all columns at once using pd.concat(axis=1) instead. To get a de-fragmented frame, use `newframe = frame.copy()`\n",
      "  OD_matrix[mode].loc[zip1, zip2] = value\n",
      "C:\\Users\\olive\\AppData\\Local\\Temp\\ipykernel_24948\\3621653985.py:10: PerformanceWarning: DataFrame is highly fragmented.  This is usually the result of calling `frame.insert` many times, which has poor performance.  Consider joining all columns at once using pd.concat(axis=1) instead. To get a de-fragmented frame, use `newframe = frame.copy()`\n",
      "  OD_matrix[mode].loc[zip1, zip2] = value\n",
      "C:\\Users\\olive\\AppData\\Local\\Temp\\ipykernel_24948\\3621653985.py:10: PerformanceWarning: DataFrame is highly fragmented.  This is usually the result of calling `frame.insert` many times, which has poor performance.  Consider joining all columns at once using pd.concat(axis=1) instead. To get a de-fragmented frame, use `newframe = frame.copy()`\n",
      "  OD_matrix[mode].loc[zip1, zip2] = value\n",
      "C:\\Users\\olive\\AppData\\Local\\Temp\\ipykernel_24948\\3621653985.py:10: PerformanceWarning: DataFrame is highly fragmented.  This is usually the result of calling `frame.insert` many times, which has poor performance.  Consider joining all columns at once using pd.concat(axis=1) instead. To get a de-fragmented frame, use `newframe = frame.copy()`\n",
      "  OD_matrix[mode].loc[zip1, zip2] = value\n",
      "C:\\Users\\olive\\AppData\\Local\\Temp\\ipykernel_24948\\3621653985.py:10: PerformanceWarning: DataFrame is highly fragmented.  This is usually the result of calling `frame.insert` many times, which has poor performance.  Consider joining all columns at once using pd.concat(axis=1) instead. To get a de-fragmented frame, use `newframe = frame.copy()`\n",
      "  OD_matrix[mode].loc[zip1, zip2] = value\n",
      "C:\\Users\\olive\\AppData\\Local\\Temp\\ipykernel_24948\\3621653985.py:10: PerformanceWarning: DataFrame is highly fragmented.  This is usually the result of calling `frame.insert` many times, which has poor performance.  Consider joining all columns at once using pd.concat(axis=1) instead. To get a de-fragmented frame, use `newframe = frame.copy()`\n",
      "  OD_matrix[mode].loc[zip1, zip2] = value\n",
      "C:\\Users\\olive\\AppData\\Local\\Temp\\ipykernel_24948\\3621653985.py:10: PerformanceWarning: DataFrame is highly fragmented.  This is usually the result of calling `frame.insert` many times, which has poor performance.  Consider joining all columns at once using pd.concat(axis=1) instead. To get a de-fragmented frame, use `newframe = frame.copy()`\n",
      "  OD_matrix[mode].loc[zip1, zip2] = value\n",
      "C:\\Users\\olive\\AppData\\Local\\Temp\\ipykernel_24948\\3621653985.py:10: PerformanceWarning: DataFrame is highly fragmented.  This is usually the result of calling `frame.insert` many times, which has poor performance.  Consider joining all columns at once using pd.concat(axis=1) instead. To get a de-fragmented frame, use `newframe = frame.copy()`\n",
      "  OD_matrix[mode].loc[zip1, zip2] = value\n",
      "C:\\Users\\olive\\AppData\\Local\\Temp\\ipykernel_24948\\3621653985.py:10: PerformanceWarning: DataFrame is highly fragmented.  This is usually the result of calling `frame.insert` many times, which has poor performance.  Consider joining all columns at once using pd.concat(axis=1) instead. To get a de-fragmented frame, use `newframe = frame.copy()`\n",
      "  OD_matrix[mode].loc[zip1, zip2] = value\n",
      "C:\\Users\\olive\\AppData\\Local\\Temp\\ipykernel_24948\\3621653985.py:10: PerformanceWarning: DataFrame is highly fragmented.  This is usually the result of calling `frame.insert` many times, which has poor performance.  Consider joining all columns at once using pd.concat(axis=1) instead. To get a de-fragmented frame, use `newframe = frame.copy()`\n",
      "  OD_matrix[mode].loc[zip1, zip2] = value\n",
      "C:\\Users\\olive\\AppData\\Local\\Temp\\ipykernel_24948\\3621653985.py:10: PerformanceWarning: DataFrame is highly fragmented.  This is usually the result of calling `frame.insert` many times, which has poor performance.  Consider joining all columns at once using pd.concat(axis=1) instead. To get a de-fragmented frame, use `newframe = frame.copy()`\n",
      "  OD_matrix[mode].loc[zip1, zip2] = value\n",
      "C:\\Users\\olive\\AppData\\Local\\Temp\\ipykernel_24948\\3621653985.py:10: PerformanceWarning: DataFrame is highly fragmented.  This is usually the result of calling `frame.insert` many times, which has poor performance.  Consider joining all columns at once using pd.concat(axis=1) instead. To get a de-fragmented frame, use `newframe = frame.copy()`\n",
      "  OD_matrix[mode].loc[zip1, zip2] = value\n",
      "C:\\Users\\olive\\AppData\\Local\\Temp\\ipykernel_24948\\3621653985.py:10: PerformanceWarning: DataFrame is highly fragmented.  This is usually the result of calling `frame.insert` many times, which has poor performance.  Consider joining all columns at once using pd.concat(axis=1) instead. To get a de-fragmented frame, use `newframe = frame.copy()`\n",
      "  OD_matrix[mode].loc[zip1, zip2] = value\n",
      "C:\\Users\\olive\\AppData\\Local\\Temp\\ipykernel_24948\\3621653985.py:10: PerformanceWarning: DataFrame is highly fragmented.  This is usually the result of calling `frame.insert` many times, which has poor performance.  Consider joining all columns at once using pd.concat(axis=1) instead. To get a de-fragmented frame, use `newframe = frame.copy()`\n",
      "  OD_matrix[mode].loc[zip1, zip2] = value\n",
      "C:\\Users\\olive\\AppData\\Local\\Temp\\ipykernel_24948\\3621653985.py:10: PerformanceWarning: DataFrame is highly fragmented.  This is usually the result of calling `frame.insert` many times, which has poor performance.  Consider joining all columns at once using pd.concat(axis=1) instead. To get a de-fragmented frame, use `newframe = frame.copy()`\n",
      "  OD_matrix[mode].loc[zip1, zip2] = value\n",
      "C:\\Users\\olive\\AppData\\Local\\Temp\\ipykernel_24948\\3621653985.py:10: PerformanceWarning: DataFrame is highly fragmented.  This is usually the result of calling `frame.insert` many times, which has poor performance.  Consider joining all columns at once using pd.concat(axis=1) instead. To get a de-fragmented frame, use `newframe = frame.copy()`\n",
      "  OD_matrix[mode].loc[zip1, zip2] = value\n",
      "C:\\Users\\olive\\AppData\\Local\\Temp\\ipykernel_24948\\3621653985.py:10: PerformanceWarning: DataFrame is highly fragmented.  This is usually the result of calling `frame.insert` many times, which has poor performance.  Consider joining all columns at once using pd.concat(axis=1) instead. To get a de-fragmented frame, use `newframe = frame.copy()`\n",
      "  OD_matrix[mode].loc[zip1, zip2] = value\n",
      "C:\\Users\\olive\\AppData\\Local\\Temp\\ipykernel_24948\\3621653985.py:10: PerformanceWarning: DataFrame is highly fragmented.  This is usually the result of calling `frame.insert` many times, which has poor performance.  Consider joining all columns at once using pd.concat(axis=1) instead. To get a de-fragmented frame, use `newframe = frame.copy()`\n",
      "  OD_matrix[mode].loc[zip1, zip2] = value\n",
      "C:\\Users\\olive\\AppData\\Local\\Temp\\ipykernel_24948\\3621653985.py:10: PerformanceWarning: DataFrame is highly fragmented.  This is usually the result of calling `frame.insert` many times, which has poor performance.  Consider joining all columns at once using pd.concat(axis=1) instead. To get a de-fragmented frame, use `newframe = frame.copy()`\n",
      "  OD_matrix[mode].loc[zip1, zip2] = value\n",
      "C:\\Users\\olive\\AppData\\Local\\Temp\\ipykernel_24948\\3621653985.py:10: PerformanceWarning: DataFrame is highly fragmented.  This is usually the result of calling `frame.insert` many times, which has poor performance.  Consider joining all columns at once using pd.concat(axis=1) instead. To get a de-fragmented frame, use `newframe = frame.copy()`\n",
      "  OD_matrix[mode].loc[zip1, zip2] = value\n",
      "C:\\Users\\olive\\AppData\\Local\\Temp\\ipykernel_24948\\3621653985.py:10: PerformanceWarning: DataFrame is highly fragmented.  This is usually the result of calling `frame.insert` many times, which has poor performance.  Consider joining all columns at once using pd.concat(axis=1) instead. To get a de-fragmented frame, use `newframe = frame.copy()`\n",
      "  OD_matrix[mode].loc[zip1, zip2] = value\n",
      "C:\\Users\\olive\\AppData\\Local\\Temp\\ipykernel_24948\\3621653985.py:10: PerformanceWarning: DataFrame is highly fragmented.  This is usually the result of calling `frame.insert` many times, which has poor performance.  Consider joining all columns at once using pd.concat(axis=1) instead. To get a de-fragmented frame, use `newframe = frame.copy()`\n",
      "  OD_matrix[mode].loc[zip1, zip2] = value\n",
      "C:\\Users\\olive\\AppData\\Local\\Temp\\ipykernel_24948\\3621653985.py:10: PerformanceWarning: DataFrame is highly fragmented.  This is usually the result of calling `frame.insert` many times, which has poor performance.  Consider joining all columns at once using pd.concat(axis=1) instead. To get a de-fragmented frame, use `newframe = frame.copy()`\n",
      "  OD_matrix[mode].loc[zip1, zip2] = value\n",
      "C:\\Users\\olive\\AppData\\Local\\Temp\\ipykernel_24948\\3621653985.py:10: PerformanceWarning: DataFrame is highly fragmented.  This is usually the result of calling `frame.insert` many times, which has poor performance.  Consider joining all columns at once using pd.concat(axis=1) instead. To get a de-fragmented frame, use `newframe = frame.copy()`\n",
      "  OD_matrix[mode].loc[zip1, zip2] = value\n",
      "C:\\Users\\olive\\AppData\\Local\\Temp\\ipykernel_24948\\3621653985.py:10: PerformanceWarning: DataFrame is highly fragmented.  This is usually the result of calling `frame.insert` many times, which has poor performance.  Consider joining all columns at once using pd.concat(axis=1) instead. To get a de-fragmented frame, use `newframe = frame.copy()`\n",
      "  OD_matrix[mode].loc[zip1, zip2] = value\n",
      "C:\\Users\\olive\\AppData\\Local\\Temp\\ipykernel_24948\\3621653985.py:10: PerformanceWarning: DataFrame is highly fragmented.  This is usually the result of calling `frame.insert` many times, which has poor performance.  Consider joining all columns at once using pd.concat(axis=1) instead. To get a de-fragmented frame, use `newframe = frame.copy()`\n",
      "  OD_matrix[mode].loc[zip1, zip2] = value\n",
      "C:\\Users\\olive\\AppData\\Local\\Temp\\ipykernel_24948\\3621653985.py:10: PerformanceWarning: DataFrame is highly fragmented.  This is usually the result of calling `frame.insert` many times, which has poor performance.  Consider joining all columns at once using pd.concat(axis=1) instead. To get a de-fragmented frame, use `newframe = frame.copy()`\n",
      "  OD_matrix[mode].loc[zip1, zip2] = value\n",
      "C:\\Users\\olive\\AppData\\Local\\Temp\\ipykernel_24948\\3621653985.py:10: PerformanceWarning: DataFrame is highly fragmented.  This is usually the result of calling `frame.insert` many times, which has poor performance.  Consider joining all columns at once using pd.concat(axis=1) instead. To get a de-fragmented frame, use `newframe = frame.copy()`\n",
      "  OD_matrix[mode].loc[zip1, zip2] = value\n",
      "C:\\Users\\olive\\AppData\\Local\\Temp\\ipykernel_24948\\3621653985.py:10: PerformanceWarning: DataFrame is highly fragmented.  This is usually the result of calling `frame.insert` many times, which has poor performance.  Consider joining all columns at once using pd.concat(axis=1) instead. To get a de-fragmented frame, use `newframe = frame.copy()`\n",
      "  OD_matrix[mode].loc[zip1, zip2] = value\n",
      "C:\\Users\\olive\\AppData\\Local\\Temp\\ipykernel_24948\\3621653985.py:10: PerformanceWarning: DataFrame is highly fragmented.  This is usually the result of calling `frame.insert` many times, which has poor performance.  Consider joining all columns at once using pd.concat(axis=1) instead. To get a de-fragmented frame, use `newframe = frame.copy()`\n",
      "  OD_matrix[mode].loc[zip1, zip2] = value\n",
      "C:\\Users\\olive\\AppData\\Local\\Temp\\ipykernel_24948\\3621653985.py:10: PerformanceWarning: DataFrame is highly fragmented.  This is usually the result of calling `frame.insert` many times, which has poor performance.  Consider joining all columns at once using pd.concat(axis=1) instead. To get a de-fragmented frame, use `newframe = frame.copy()`\n",
      "  OD_matrix[mode].loc[zip1, zip2] = value\n",
      "C:\\Users\\olive\\AppData\\Local\\Temp\\ipykernel_24948\\3621653985.py:10: PerformanceWarning: DataFrame is highly fragmented.  This is usually the result of calling `frame.insert` many times, which has poor performance.  Consider joining all columns at once using pd.concat(axis=1) instead. To get a de-fragmented frame, use `newframe = frame.copy()`\n",
      "  OD_matrix[mode].loc[zip1, zip2] = value\n",
      "C:\\Users\\olive\\AppData\\Local\\Temp\\ipykernel_24948\\3621653985.py:10: PerformanceWarning: DataFrame is highly fragmented.  This is usually the result of calling `frame.insert` many times, which has poor performance.  Consider joining all columns at once using pd.concat(axis=1) instead. To get a de-fragmented frame, use `newframe = frame.copy()`\n",
      "  OD_matrix[mode].loc[zip1, zip2] = value\n",
      "C:\\Users\\olive\\AppData\\Local\\Temp\\ipykernel_24948\\3621653985.py:10: PerformanceWarning: DataFrame is highly fragmented.  This is usually the result of calling `frame.insert` many times, which has poor performance.  Consider joining all columns at once using pd.concat(axis=1) instead. To get a de-fragmented frame, use `newframe = frame.copy()`\n",
      "  OD_matrix[mode].loc[zip1, zip2] = value\n",
      "C:\\Users\\olive\\AppData\\Local\\Temp\\ipykernel_24948\\3621653985.py:10: PerformanceWarning: DataFrame is highly fragmented.  This is usually the result of calling `frame.insert` many times, which has poor performance.  Consider joining all columns at once using pd.concat(axis=1) instead. To get a de-fragmented frame, use `newframe = frame.copy()`\n",
      "  OD_matrix[mode].loc[zip1, zip2] = value\n",
      "C:\\Users\\olive\\AppData\\Local\\Temp\\ipykernel_24948\\3621653985.py:10: PerformanceWarning: DataFrame is highly fragmented.  This is usually the result of calling `frame.insert` many times, which has poor performance.  Consider joining all columns at once using pd.concat(axis=1) instead. To get a de-fragmented frame, use `newframe = frame.copy()`\n",
      "  OD_matrix[mode].loc[zip1, zip2] = value\n",
      "C:\\Users\\olive\\AppData\\Local\\Temp\\ipykernel_24948\\3621653985.py:10: PerformanceWarning: DataFrame is highly fragmented.  This is usually the result of calling `frame.insert` many times, which has poor performance.  Consider joining all columns at once using pd.concat(axis=1) instead. To get a de-fragmented frame, use `newframe = frame.copy()`\n",
      "  OD_matrix[mode].loc[zip1, zip2] = value\n",
      "C:\\Users\\olive\\AppData\\Local\\Temp\\ipykernel_24948\\3621653985.py:10: PerformanceWarning: DataFrame is highly fragmented.  This is usually the result of calling `frame.insert` many times, which has poor performance.  Consider joining all columns at once using pd.concat(axis=1) instead. To get a de-fragmented frame, use `newframe = frame.copy()`\n",
      "  OD_matrix[mode].loc[zip1, zip2] = value\n",
      "C:\\Users\\olive\\AppData\\Local\\Temp\\ipykernel_24948\\3621653985.py:10: PerformanceWarning: DataFrame is highly fragmented.  This is usually the result of calling `frame.insert` many times, which has poor performance.  Consider joining all columns at once using pd.concat(axis=1) instead. To get a de-fragmented frame, use `newframe = frame.copy()`\n",
      "  OD_matrix[mode].loc[zip1, zip2] = value\n",
      "C:\\Users\\olive\\AppData\\Local\\Temp\\ipykernel_24948\\3621653985.py:10: PerformanceWarning: DataFrame is highly fragmented.  This is usually the result of calling `frame.insert` many times, which has poor performance.  Consider joining all columns at once using pd.concat(axis=1) instead. To get a de-fragmented frame, use `newframe = frame.copy()`\n",
      "  OD_matrix[mode].loc[zip1, zip2] = value\n",
      "C:\\Users\\olive\\AppData\\Local\\Temp\\ipykernel_24948\\3621653985.py:10: PerformanceWarning: DataFrame is highly fragmented.  This is usually the result of calling `frame.insert` many times, which has poor performance.  Consider joining all columns at once using pd.concat(axis=1) instead. To get a de-fragmented frame, use `newframe = frame.copy()`\n",
      "  OD_matrix[mode].loc[zip1, zip2] = value\n",
      "C:\\Users\\olive\\AppData\\Local\\Temp\\ipykernel_24948\\3621653985.py:10: PerformanceWarning: DataFrame is highly fragmented.  This is usually the result of calling `frame.insert` many times, which has poor performance.  Consider joining all columns at once using pd.concat(axis=1) instead. To get a de-fragmented frame, use `newframe = frame.copy()`\n",
      "  OD_matrix[mode].loc[zip1, zip2] = value\n",
      "C:\\Users\\olive\\AppData\\Local\\Temp\\ipykernel_24948\\3621653985.py:10: PerformanceWarning: DataFrame is highly fragmented.  This is usually the result of calling `frame.insert` many times, which has poor performance.  Consider joining all columns at once using pd.concat(axis=1) instead. To get a de-fragmented frame, use `newframe = frame.copy()`\n",
      "  OD_matrix[mode].loc[zip1, zip2] = value\n",
      "C:\\Users\\olive\\AppData\\Local\\Temp\\ipykernel_24948\\3621653985.py:10: PerformanceWarning: DataFrame is highly fragmented.  This is usually the result of calling `frame.insert` many times, which has poor performance.  Consider joining all columns at once using pd.concat(axis=1) instead. To get a de-fragmented frame, use `newframe = frame.copy()`\n",
      "  OD_matrix[mode].loc[zip1, zip2] = value\n",
      "C:\\Users\\olive\\AppData\\Local\\Temp\\ipykernel_24948\\3621653985.py:10: PerformanceWarning: DataFrame is highly fragmented.  This is usually the result of calling `frame.insert` many times, which has poor performance.  Consider joining all columns at once using pd.concat(axis=1) instead. To get a de-fragmented frame, use `newframe = frame.copy()`\n",
      "  OD_matrix[mode].loc[zip1, zip2] = value\n",
      "C:\\Users\\olive\\AppData\\Local\\Temp\\ipykernel_24948\\3621653985.py:10: PerformanceWarning: DataFrame is highly fragmented.  This is usually the result of calling `frame.insert` many times, which has poor performance.  Consider joining all columns at once using pd.concat(axis=1) instead. To get a de-fragmented frame, use `newframe = frame.copy()`\n",
      "  OD_matrix[mode].loc[zip1, zip2] = value\n",
      "C:\\Users\\olive\\AppData\\Local\\Temp\\ipykernel_24948\\3621653985.py:10: PerformanceWarning: DataFrame is highly fragmented.  This is usually the result of calling `frame.insert` many times, which has poor performance.  Consider joining all columns at once using pd.concat(axis=1) instead. To get a de-fragmented frame, use `newframe = frame.copy()`\n",
      "  OD_matrix[mode].loc[zip1, zip2] = value\n",
      "C:\\Users\\olive\\AppData\\Local\\Temp\\ipykernel_24948\\3621653985.py:10: PerformanceWarning: DataFrame is highly fragmented.  This is usually the result of calling `frame.insert` many times, which has poor performance.  Consider joining all columns at once using pd.concat(axis=1) instead. To get a de-fragmented frame, use `newframe = frame.copy()`\n",
      "  OD_matrix[mode].loc[zip1, zip2] = value\n",
      "C:\\Users\\olive\\AppData\\Local\\Temp\\ipykernel_24948\\3621653985.py:10: PerformanceWarning: DataFrame is highly fragmented.  This is usually the result of calling `frame.insert` many times, which has poor performance.  Consider joining all columns at once using pd.concat(axis=1) instead. To get a de-fragmented frame, use `newframe = frame.copy()`\n",
      "  OD_matrix[mode].loc[zip1, zip2] = value\n",
      "C:\\Users\\olive\\AppData\\Local\\Temp\\ipykernel_24948\\3621653985.py:10: PerformanceWarning: DataFrame is highly fragmented.  This is usually the result of calling `frame.insert` many times, which has poor performance.  Consider joining all columns at once using pd.concat(axis=1) instead. To get a de-fragmented frame, use `newframe = frame.copy()`\n",
      "  OD_matrix[mode].loc[zip1, zip2] = value\n",
      "C:\\Users\\olive\\AppData\\Local\\Temp\\ipykernel_24948\\3621653985.py:10: PerformanceWarning: DataFrame is highly fragmented.  This is usually the result of calling `frame.insert` many times, which has poor performance.  Consider joining all columns at once using pd.concat(axis=1) instead. To get a de-fragmented frame, use `newframe = frame.copy()`\n",
      "  OD_matrix[mode].loc[zip1, zip2] = value\n",
      "C:\\Users\\olive\\AppData\\Local\\Temp\\ipykernel_24948\\3621653985.py:10: PerformanceWarning: DataFrame is highly fragmented.  This is usually the result of calling `frame.insert` many times, which has poor performance.  Consider joining all columns at once using pd.concat(axis=1) instead. To get a de-fragmented frame, use `newframe = frame.copy()`\n",
      "  OD_matrix[mode].loc[zip1, zip2] = value\n",
      "C:\\Users\\olive\\AppData\\Local\\Temp\\ipykernel_24948\\3621653985.py:10: PerformanceWarning: DataFrame is highly fragmented.  This is usually the result of calling `frame.insert` many times, which has poor performance.  Consider joining all columns at once using pd.concat(axis=1) instead. To get a de-fragmented frame, use `newframe = frame.copy()`\n",
      "  OD_matrix[mode].loc[zip1, zip2] = value\n",
      "C:\\Users\\olive\\AppData\\Local\\Temp\\ipykernel_24948\\3621653985.py:10: PerformanceWarning: DataFrame is highly fragmented.  This is usually the result of calling `frame.insert` many times, which has poor performance.  Consider joining all columns at once using pd.concat(axis=1) instead. To get a de-fragmented frame, use `newframe = frame.copy()`\n",
      "  OD_matrix[mode].loc[zip1, zip2] = value\n",
      "C:\\Users\\olive\\AppData\\Local\\Temp\\ipykernel_24948\\3621653985.py:10: PerformanceWarning: DataFrame is highly fragmented.  This is usually the result of calling `frame.insert` many times, which has poor performance.  Consider joining all columns at once using pd.concat(axis=1) instead. To get a de-fragmented frame, use `newframe = frame.copy()`\n",
      "  OD_matrix[mode].loc[zip1, zip2] = value\n",
      "C:\\Users\\olive\\AppData\\Local\\Temp\\ipykernel_24948\\3621653985.py:10: PerformanceWarning: DataFrame is highly fragmented.  This is usually the result of calling `frame.insert` many times, which has poor performance.  Consider joining all columns at once using pd.concat(axis=1) instead. To get a de-fragmented frame, use `newframe = frame.copy()`\n",
      "  OD_matrix[mode].loc[zip1, zip2] = value\n",
      "C:\\Users\\olive\\AppData\\Local\\Temp\\ipykernel_24948\\3621653985.py:10: PerformanceWarning: DataFrame is highly fragmented.  This is usually the result of calling `frame.insert` many times, which has poor performance.  Consider joining all columns at once using pd.concat(axis=1) instead. To get a de-fragmented frame, use `newframe = frame.copy()`\n",
      "  OD_matrix[mode].loc[zip1, zip2] = value\n",
      "C:\\Users\\olive\\AppData\\Local\\Temp\\ipykernel_24948\\3621653985.py:10: PerformanceWarning: DataFrame is highly fragmented.  This is usually the result of calling `frame.insert` many times, which has poor performance.  Consider joining all columns at once using pd.concat(axis=1) instead. To get a de-fragmented frame, use `newframe = frame.copy()`\n",
      "  OD_matrix[mode].loc[zip1, zip2] = value\n",
      "C:\\Users\\olive\\AppData\\Local\\Temp\\ipykernel_24948\\3621653985.py:10: PerformanceWarning: DataFrame is highly fragmented.  This is usually the result of calling `frame.insert` many times, which has poor performance.  Consider joining all columns at once using pd.concat(axis=1) instead. To get a de-fragmented frame, use `newframe = frame.copy()`\n",
      "  OD_matrix[mode].loc[zip1, zip2] = value\n",
      "C:\\Users\\olive\\AppData\\Local\\Temp\\ipykernel_24948\\3621653985.py:10: PerformanceWarning: DataFrame is highly fragmented.  This is usually the result of calling `frame.insert` many times, which has poor performance.  Consider joining all columns at once using pd.concat(axis=1) instead. To get a de-fragmented frame, use `newframe = frame.copy()`\n",
      "  OD_matrix[mode].loc[zip1, zip2] = value\n",
      "C:\\Users\\olive\\AppData\\Local\\Temp\\ipykernel_24948\\3621653985.py:10: PerformanceWarning: DataFrame is highly fragmented.  This is usually the result of calling `frame.insert` many times, which has poor performance.  Consider joining all columns at once using pd.concat(axis=1) instead. To get a de-fragmented frame, use `newframe = frame.copy()`\n",
      "  OD_matrix[mode].loc[zip1, zip2] = value\n",
      "C:\\Users\\olive\\AppData\\Local\\Temp\\ipykernel_24948\\3621653985.py:10: PerformanceWarning: DataFrame is highly fragmented.  This is usually the result of calling `frame.insert` many times, which has poor performance.  Consider joining all columns at once using pd.concat(axis=1) instead. To get a de-fragmented frame, use `newframe = frame.copy()`\n",
      "  OD_matrix[mode].loc[zip1, zip2] = value\n",
      "C:\\Users\\olive\\AppData\\Local\\Temp\\ipykernel_24948\\3621653985.py:10: PerformanceWarning: DataFrame is highly fragmented.  This is usually the result of calling `frame.insert` many times, which has poor performance.  Consider joining all columns at once using pd.concat(axis=1) instead. To get a de-fragmented frame, use `newframe = frame.copy()`\n",
      "  OD_matrix[mode].loc[zip1, zip2] = value\n",
      "C:\\Users\\olive\\AppData\\Local\\Temp\\ipykernel_24948\\3621653985.py:10: PerformanceWarning: DataFrame is highly fragmented.  This is usually the result of calling `frame.insert` many times, which has poor performance.  Consider joining all columns at once using pd.concat(axis=1) instead. To get a de-fragmented frame, use `newframe = frame.copy()`\n",
      "  OD_matrix[mode].loc[zip1, zip2] = value\n",
      "C:\\Users\\olive\\AppData\\Local\\Temp\\ipykernel_24948\\3621653985.py:10: PerformanceWarning: DataFrame is highly fragmented.  This is usually the result of calling `frame.insert` many times, which has poor performance.  Consider joining all columns at once using pd.concat(axis=1) instead. To get a de-fragmented frame, use `newframe = frame.copy()`\n",
      "  OD_matrix[mode].loc[zip1, zip2] = value\n",
      "C:\\Users\\olive\\AppData\\Local\\Temp\\ipykernel_24948\\3621653985.py:10: PerformanceWarning: DataFrame is highly fragmented.  This is usually the result of calling `frame.insert` many times, which has poor performance.  Consider joining all columns at once using pd.concat(axis=1) instead. To get a de-fragmented frame, use `newframe = frame.copy()`\n",
      "  OD_matrix[mode].loc[zip1, zip2] = value\n",
      "C:\\Users\\olive\\AppData\\Local\\Temp\\ipykernel_24948\\3621653985.py:10: PerformanceWarning: DataFrame is highly fragmented.  This is usually the result of calling `frame.insert` many times, which has poor performance.  Consider joining all columns at once using pd.concat(axis=1) instead. To get a de-fragmented frame, use `newframe = frame.copy()`\n",
      "  OD_matrix[mode].loc[zip1, zip2] = value\n",
      "C:\\Users\\olive\\AppData\\Local\\Temp\\ipykernel_24948\\3621653985.py:10: PerformanceWarning: DataFrame is highly fragmented.  This is usually the result of calling `frame.insert` many times, which has poor performance.  Consider joining all columns at once using pd.concat(axis=1) instead. To get a de-fragmented frame, use `newframe = frame.copy()`\n",
      "  OD_matrix[mode].loc[zip1, zip2] = value\n",
      "C:\\Users\\olive\\AppData\\Local\\Temp\\ipykernel_24948\\3621653985.py:10: PerformanceWarning: DataFrame is highly fragmented.  This is usually the result of calling `frame.insert` many times, which has poor performance.  Consider joining all columns at once using pd.concat(axis=1) instead. To get a de-fragmented frame, use `newframe = frame.copy()`\n",
      "  OD_matrix[mode].loc[zip1, zip2] = value\n",
      "C:\\Users\\olive\\AppData\\Local\\Temp\\ipykernel_24948\\3621653985.py:10: PerformanceWarning: DataFrame is highly fragmented.  This is usually the result of calling `frame.insert` many times, which has poor performance.  Consider joining all columns at once using pd.concat(axis=1) instead. To get a de-fragmented frame, use `newframe = frame.copy()`\n",
      "  OD_matrix[mode].loc[zip1, zip2] = value\n",
      "C:\\Users\\olive\\AppData\\Local\\Temp\\ipykernel_24948\\3621653985.py:10: PerformanceWarning: DataFrame is highly fragmented.  This is usually the result of calling `frame.insert` many times, which has poor performance.  Consider joining all columns at once using pd.concat(axis=1) instead. To get a de-fragmented frame, use `newframe = frame.copy()`\n",
      "  OD_matrix[mode].loc[zip1, zip2] = value\n",
      "C:\\Users\\olive\\AppData\\Local\\Temp\\ipykernel_24948\\3621653985.py:10: PerformanceWarning: DataFrame is highly fragmented.  This is usually the result of calling `frame.insert` many times, which has poor performance.  Consider joining all columns at once using pd.concat(axis=1) instead. To get a de-fragmented frame, use `newframe = frame.copy()`\n",
      "  OD_matrix[mode].loc[zip1, zip2] = value\n",
      "C:\\Users\\olive\\AppData\\Local\\Temp\\ipykernel_24948\\3621653985.py:10: PerformanceWarning: DataFrame is highly fragmented.  This is usually the result of calling `frame.insert` many times, which has poor performance.  Consider joining all columns at once using pd.concat(axis=1) instead. To get a de-fragmented frame, use `newframe = frame.copy()`\n",
      "  OD_matrix[mode].loc[zip1, zip2] = value\n",
      "C:\\Users\\olive\\AppData\\Local\\Temp\\ipykernel_24948\\3621653985.py:10: PerformanceWarning: DataFrame is highly fragmented.  This is usually the result of calling `frame.insert` many times, which has poor performance.  Consider joining all columns at once using pd.concat(axis=1) instead. To get a de-fragmented frame, use `newframe = frame.copy()`\n",
      "  OD_matrix[mode].loc[zip1, zip2] = value\n",
      "C:\\Users\\olive\\AppData\\Local\\Temp\\ipykernel_24948\\3621653985.py:10: PerformanceWarning: DataFrame is highly fragmented.  This is usually the result of calling `frame.insert` many times, which has poor performance.  Consider joining all columns at once using pd.concat(axis=1) instead. To get a de-fragmented frame, use `newframe = frame.copy()`\n",
      "  OD_matrix[mode].loc[zip1, zip2] = value\n",
      "C:\\Users\\olive\\AppData\\Local\\Temp\\ipykernel_24948\\3621653985.py:10: PerformanceWarning: DataFrame is highly fragmented.  This is usually the result of calling `frame.insert` many times, which has poor performance.  Consider joining all columns at once using pd.concat(axis=1) instead. To get a de-fragmented frame, use `newframe = frame.copy()`\n",
      "  OD_matrix[mode].loc[zip1, zip2] = value\n",
      "C:\\Users\\olive\\AppData\\Local\\Temp\\ipykernel_24948\\3621653985.py:10: PerformanceWarning: DataFrame is highly fragmented.  This is usually the result of calling `frame.insert` many times, which has poor performance.  Consider joining all columns at once using pd.concat(axis=1) instead. To get a de-fragmented frame, use `newframe = frame.copy()`\n",
      "  OD_matrix[mode].loc[zip1, zip2] = value\n",
      "C:\\Users\\olive\\AppData\\Local\\Temp\\ipykernel_24948\\3621653985.py:10: PerformanceWarning: DataFrame is highly fragmented.  This is usually the result of calling `frame.insert` many times, which has poor performance.  Consider joining all columns at once using pd.concat(axis=1) instead. To get a de-fragmented frame, use `newframe = frame.copy()`\n",
      "  OD_matrix[mode].loc[zip1, zip2] = value\n",
      "C:\\Users\\olive\\AppData\\Local\\Temp\\ipykernel_24948\\3621653985.py:10: PerformanceWarning: DataFrame is highly fragmented.  This is usually the result of calling `frame.insert` many times, which has poor performance.  Consider joining all columns at once using pd.concat(axis=1) instead. To get a de-fragmented frame, use `newframe = frame.copy()`\n",
      "  OD_matrix[mode].loc[zip1, zip2] = value\n",
      "C:\\Users\\olive\\AppData\\Local\\Temp\\ipykernel_24948\\3621653985.py:10: PerformanceWarning: DataFrame is highly fragmented.  This is usually the result of calling `frame.insert` many times, which has poor performance.  Consider joining all columns at once using pd.concat(axis=1) instead. To get a de-fragmented frame, use `newframe = frame.copy()`\n",
      "  OD_matrix[mode].loc[zip1, zip2] = value\n",
      "C:\\Users\\olive\\AppData\\Local\\Temp\\ipykernel_24948\\3621653985.py:10: PerformanceWarning: DataFrame is highly fragmented.  This is usually the result of calling `frame.insert` many times, which has poor performance.  Consider joining all columns at once using pd.concat(axis=1) instead. To get a de-fragmented frame, use `newframe = frame.copy()`\n",
      "  OD_matrix[mode].loc[zip1, zip2] = value\n",
      "C:\\Users\\olive\\AppData\\Local\\Temp\\ipykernel_24948\\3621653985.py:10: PerformanceWarning: DataFrame is highly fragmented.  This is usually the result of calling `frame.insert` many times, which has poor performance.  Consider joining all columns at once using pd.concat(axis=1) instead. To get a de-fragmented frame, use `newframe = frame.copy()`\n",
      "  OD_matrix[mode].loc[zip1, zip2] = value\n",
      "C:\\Users\\olive\\AppData\\Local\\Temp\\ipykernel_24948\\3621653985.py:10: PerformanceWarning: DataFrame is highly fragmented.  This is usually the result of calling `frame.insert` many times, which has poor performance.  Consider joining all columns at once using pd.concat(axis=1) instead. To get a de-fragmented frame, use `newframe = frame.copy()`\n",
      "  OD_matrix[mode].loc[zip1, zip2] = value\n",
      "C:\\Users\\olive\\AppData\\Local\\Temp\\ipykernel_24948\\3621653985.py:10: PerformanceWarning: DataFrame is highly fragmented.  This is usually the result of calling `frame.insert` many times, which has poor performance.  Consider joining all columns at once using pd.concat(axis=1) instead. To get a de-fragmented frame, use `newframe = frame.copy()`\n",
      "  OD_matrix[mode].loc[zip1, zip2] = value\n",
      "C:\\Users\\olive\\AppData\\Local\\Temp\\ipykernel_24948\\3621653985.py:10: PerformanceWarning: DataFrame is highly fragmented.  This is usually the result of calling `frame.insert` many times, which has poor performance.  Consider joining all columns at once using pd.concat(axis=1) instead. To get a de-fragmented frame, use `newframe = frame.copy()`\n",
      "  OD_matrix[mode].loc[zip1, zip2] = value\n",
      "C:\\Users\\olive\\AppData\\Local\\Temp\\ipykernel_24948\\3621653985.py:10: PerformanceWarning: DataFrame is highly fragmented.  This is usually the result of calling `frame.insert` many times, which has poor performance.  Consider joining all columns at once using pd.concat(axis=1) instead. To get a de-fragmented frame, use `newframe = frame.copy()`\n",
      "  OD_matrix[mode].loc[zip1, zip2] = value\n",
      "C:\\Users\\olive\\AppData\\Local\\Temp\\ipykernel_24948\\3621653985.py:10: PerformanceWarning: DataFrame is highly fragmented.  This is usually the result of calling `frame.insert` many times, which has poor performance.  Consider joining all columns at once using pd.concat(axis=1) instead. To get a de-fragmented frame, use `newframe = frame.copy()`\n",
      "  OD_matrix[mode].loc[zip1, zip2] = value\n",
      "C:\\Users\\olive\\AppData\\Local\\Temp\\ipykernel_24948\\3621653985.py:10: PerformanceWarning: DataFrame is highly fragmented.  This is usually the result of calling `frame.insert` many times, which has poor performance.  Consider joining all columns at once using pd.concat(axis=1) instead. To get a de-fragmented frame, use `newframe = frame.copy()`\n",
      "  OD_matrix[mode].loc[zip1, zip2] = value\n",
      "C:\\Users\\olive\\AppData\\Local\\Temp\\ipykernel_24948\\3621653985.py:10: PerformanceWarning: DataFrame is highly fragmented.  This is usually the result of calling `frame.insert` many times, which has poor performance.  Consider joining all columns at once using pd.concat(axis=1) instead. To get a de-fragmented frame, use `newframe = frame.copy()`\n",
      "  OD_matrix[mode].loc[zip1, zip2] = value\n",
      "C:\\Users\\olive\\AppData\\Local\\Temp\\ipykernel_24948\\3621653985.py:10: PerformanceWarning: DataFrame is highly fragmented.  This is usually the result of calling `frame.insert` many times, which has poor performance.  Consider joining all columns at once using pd.concat(axis=1) instead. To get a de-fragmented frame, use `newframe = frame.copy()`\n",
      "  OD_matrix[mode].loc[zip1, zip2] = value\n",
      "C:\\Users\\olive\\AppData\\Local\\Temp\\ipykernel_24948\\3621653985.py:10: PerformanceWarning: DataFrame is highly fragmented.  This is usually the result of calling `frame.insert` many times, which has poor performance.  Consider joining all columns at once using pd.concat(axis=1) instead. To get a de-fragmented frame, use `newframe = frame.copy()`\n",
      "  OD_matrix[mode].loc[zip1, zip2] = value\n",
      "C:\\Users\\olive\\AppData\\Local\\Temp\\ipykernel_24948\\3621653985.py:10: PerformanceWarning: DataFrame is highly fragmented.  This is usually the result of calling `frame.insert` many times, which has poor performance.  Consider joining all columns at once using pd.concat(axis=1) instead. To get a de-fragmented frame, use `newframe = frame.copy()`\n",
      "  OD_matrix[mode].loc[zip1, zip2] = value\n",
      "C:\\Users\\olive\\AppData\\Local\\Temp\\ipykernel_24948\\3621653985.py:10: PerformanceWarning: DataFrame is highly fragmented.  This is usually the result of calling `frame.insert` many times, which has poor performance.  Consider joining all columns at once using pd.concat(axis=1) instead. To get a de-fragmented frame, use `newframe = frame.copy()`\n",
      "  OD_matrix[mode].loc[zip1, zip2] = value\n",
      "C:\\Users\\olive\\AppData\\Local\\Temp\\ipykernel_24948\\3621653985.py:10: PerformanceWarning: DataFrame is highly fragmented.  This is usually the result of calling `frame.insert` many times, which has poor performance.  Consider joining all columns at once using pd.concat(axis=1) instead. To get a de-fragmented frame, use `newframe = frame.copy()`\n",
      "  OD_matrix[mode].loc[zip1, zip2] = value\n",
      "C:\\Users\\olive\\AppData\\Local\\Temp\\ipykernel_24948\\3621653985.py:10: PerformanceWarning: DataFrame is highly fragmented.  This is usually the result of calling `frame.insert` many times, which has poor performance.  Consider joining all columns at once using pd.concat(axis=1) instead. To get a de-fragmented frame, use `newframe = frame.copy()`\n",
      "  OD_matrix[mode].loc[zip1, zip2] = value\n",
      "C:\\Users\\olive\\AppData\\Local\\Temp\\ipykernel_24948\\3621653985.py:10: PerformanceWarning: DataFrame is highly fragmented.  This is usually the result of calling `frame.insert` many times, which has poor performance.  Consider joining all columns at once using pd.concat(axis=1) instead. To get a de-fragmented frame, use `newframe = frame.copy()`\n",
      "  OD_matrix[mode].loc[zip1, zip2] = value\n",
      "C:\\Users\\olive\\AppData\\Local\\Temp\\ipykernel_24948\\3621653985.py:10: PerformanceWarning: DataFrame is highly fragmented.  This is usually the result of calling `frame.insert` many times, which has poor performance.  Consider joining all columns at once using pd.concat(axis=1) instead. To get a de-fragmented frame, use `newframe = frame.copy()`\n",
      "  OD_matrix[mode].loc[zip1, zip2] = value\n",
      "C:\\Users\\olive\\AppData\\Local\\Temp\\ipykernel_24948\\3621653985.py:10: PerformanceWarning: DataFrame is highly fragmented.  This is usually the result of calling `frame.insert` many times, which has poor performance.  Consider joining all columns at once using pd.concat(axis=1) instead. To get a de-fragmented frame, use `newframe = frame.copy()`\n",
      "  OD_matrix[mode].loc[zip1, zip2] = value\n",
      "C:\\Users\\olive\\AppData\\Local\\Temp\\ipykernel_24948\\3621653985.py:10: PerformanceWarning: DataFrame is highly fragmented.  This is usually the result of calling `frame.insert` many times, which has poor performance.  Consider joining all columns at once using pd.concat(axis=1) instead. To get a de-fragmented frame, use `newframe = frame.copy()`\n",
      "  OD_matrix[mode].loc[zip1, zip2] = value\n",
      "C:\\Users\\olive\\AppData\\Local\\Temp\\ipykernel_24948\\3621653985.py:10: PerformanceWarning: DataFrame is highly fragmented.  This is usually the result of calling `frame.insert` many times, which has poor performance.  Consider joining all columns at once using pd.concat(axis=1) instead. To get a de-fragmented frame, use `newframe = frame.copy()`\n",
      "  OD_matrix[mode].loc[zip1, zip2] = value\n",
      "C:\\Users\\olive\\AppData\\Local\\Temp\\ipykernel_24948\\3621653985.py:10: PerformanceWarning: DataFrame is highly fragmented.  This is usually the result of calling `frame.insert` many times, which has poor performance.  Consider joining all columns at once using pd.concat(axis=1) instead. To get a de-fragmented frame, use `newframe = frame.copy()`\n",
      "  OD_matrix[mode].loc[zip1, zip2] = value\n",
      "C:\\Users\\olive\\AppData\\Local\\Temp\\ipykernel_24948\\3621653985.py:10: PerformanceWarning: DataFrame is highly fragmented.  This is usually the result of calling `frame.insert` many times, which has poor performance.  Consider joining all columns at once using pd.concat(axis=1) instead. To get a de-fragmented frame, use `newframe = frame.copy()`\n",
      "  OD_matrix[mode].loc[zip1, zip2] = value\n",
      "C:\\Users\\olive\\AppData\\Local\\Temp\\ipykernel_24948\\3621653985.py:10: PerformanceWarning: DataFrame is highly fragmented.  This is usually the result of calling `frame.insert` many times, which has poor performance.  Consider joining all columns at once using pd.concat(axis=1) instead. To get a de-fragmented frame, use `newframe = frame.copy()`\n",
      "  OD_matrix[mode].loc[zip1, zip2] = value\n",
      "C:\\Users\\olive\\AppData\\Local\\Temp\\ipykernel_24948\\3621653985.py:10: PerformanceWarning: DataFrame is highly fragmented.  This is usually the result of calling `frame.insert` many times, which has poor performance.  Consider joining all columns at once using pd.concat(axis=1) instead. To get a de-fragmented frame, use `newframe = frame.copy()`\n",
      "  OD_matrix[mode].loc[zip1, zip2] = value\n",
      "C:\\Users\\olive\\AppData\\Local\\Temp\\ipykernel_24948\\3621653985.py:10: PerformanceWarning: DataFrame is highly fragmented.  This is usually the result of calling `frame.insert` many times, which has poor performance.  Consider joining all columns at once using pd.concat(axis=1) instead. To get a de-fragmented frame, use `newframe = frame.copy()`\n",
      "  OD_matrix[mode].loc[zip1, zip2] = value\n",
      "C:\\Users\\olive\\AppData\\Local\\Temp\\ipykernel_24948\\3621653985.py:10: PerformanceWarning: DataFrame is highly fragmented.  This is usually the result of calling `frame.insert` many times, which has poor performance.  Consider joining all columns at once using pd.concat(axis=1) instead. To get a de-fragmented frame, use `newframe = frame.copy()`\n",
      "  OD_matrix[mode].loc[zip1, zip2] = value\n",
      "C:\\Users\\olive\\AppData\\Local\\Temp\\ipykernel_24948\\3621653985.py:10: PerformanceWarning: DataFrame is highly fragmented.  This is usually the result of calling `frame.insert` many times, which has poor performance.  Consider joining all columns at once using pd.concat(axis=1) instead. To get a de-fragmented frame, use `newframe = frame.copy()`\n",
      "  OD_matrix[mode].loc[zip1, zip2] = value\n",
      "C:\\Users\\olive\\AppData\\Local\\Temp\\ipykernel_24948\\3621653985.py:10: PerformanceWarning: DataFrame is highly fragmented.  This is usually the result of calling `frame.insert` many times, which has poor performance.  Consider joining all columns at once using pd.concat(axis=1) instead. To get a de-fragmented frame, use `newframe = frame.copy()`\n",
      "  OD_matrix[mode].loc[zip1, zip2] = value\n",
      "C:\\Users\\olive\\AppData\\Local\\Temp\\ipykernel_24948\\3621653985.py:10: PerformanceWarning: DataFrame is highly fragmented.  This is usually the result of calling `frame.insert` many times, which has poor performance.  Consider joining all columns at once using pd.concat(axis=1) instead. To get a de-fragmented frame, use `newframe = frame.copy()`\n",
      "  OD_matrix[mode].loc[zip1, zip2] = value\n",
      "C:\\Users\\olive\\AppData\\Local\\Temp\\ipykernel_24948\\3621653985.py:10: PerformanceWarning: DataFrame is highly fragmented.  This is usually the result of calling `frame.insert` many times, which has poor performance.  Consider joining all columns at once using pd.concat(axis=1) instead. To get a de-fragmented frame, use `newframe = frame.copy()`\n",
      "  OD_matrix[mode].loc[zip1, zip2] = value\n",
      "C:\\Users\\olive\\AppData\\Local\\Temp\\ipykernel_24948\\3621653985.py:10: PerformanceWarning: DataFrame is highly fragmented.  This is usually the result of calling `frame.insert` many times, which has poor performance.  Consider joining all columns at once using pd.concat(axis=1) instead. To get a de-fragmented frame, use `newframe = frame.copy()`\n",
      "  OD_matrix[mode].loc[zip1, zip2] = value\n",
      "C:\\Users\\olive\\AppData\\Local\\Temp\\ipykernel_24948\\3621653985.py:10: PerformanceWarning: DataFrame is highly fragmented.  This is usually the result of calling `frame.insert` many times, which has poor performance.  Consider joining all columns at once using pd.concat(axis=1) instead. To get a de-fragmented frame, use `newframe = frame.copy()`\n",
      "  OD_matrix[mode].loc[zip1, zip2] = value\n",
      "C:\\Users\\olive\\AppData\\Local\\Temp\\ipykernel_24948\\3621653985.py:10: PerformanceWarning: DataFrame is highly fragmented.  This is usually the result of calling `frame.insert` many times, which has poor performance.  Consider joining all columns at once using pd.concat(axis=1) instead. To get a de-fragmented frame, use `newframe = frame.copy()`\n",
      "  OD_matrix[mode].loc[zip1, zip2] = value\n"
     ]
    }
   ],
   "execution_count": 53
  },
  {
   "metadata": {},
   "cell_type": "markdown",
   "source": "# Exporting it",
   "id": "5023f04c731c23a"
  },
  {
   "metadata": {
    "ExecuteTime": {
     "end_time": "2025-07-30T17:17:47.121151Z",
     "start_time": "2025-07-30T17:17:47.106257Z"
    }
   },
   "cell_type": "code",
   "source": [
    "#Adding the ZIPs that did not appear as either origins or destinations\n",
    "for key in OD_matrix.keys():\n",
    "    # Ensure all zips are sorted\n",
    "    all_zips_sorted = sorted(all_zips_trans)\n",
    "\n",
    "    # Reindex rows and columns to include all_zips, preserving existing data and filling missing with 0\n",
    "    OD_matrix[key] = OD_matrix[key].reindex(index=all_zips_sorted, columns=all_zips_sorted, fill_value=0)\n"
   ],
   "id": "6cf094bdaf9e834d",
   "outputs": [],
   "execution_count": 54
  },
  {
   "metadata": {
    "ExecuteTime": {
     "end_time": "2025-07-30T17:17:54.103063Z",
     "start_time": "2025-07-30T17:17:54.036721Z"
    }
   },
   "cell_type": "code",
   "source": [
    "for mode in OD_matrix.keys():\n",
    "    OD_matrix[mode].to_csv(f'OD_matrix_{timeframe}_{mode}.csv')"
   ],
   "id": "ee9e7e5e358cef18",
   "outputs": [],
   "execution_count": 55
  },
  {
   "metadata": {
    "ExecuteTime": {
     "end_time": "2025-07-30T17:17:56.485675Z",
     "start_time": "2025-07-30T17:17:56.466758Z"
    }
   },
   "cell_type": "code",
   "source": [
    "sum = 0\n",
    "for mode in OD_matrix.keys():\n",
    "    sum += OD_matrix[mode].sum().sum()\n",
    "\n",
    "print(sum)"
   ],
   "id": "f793a5af623d15be",
   "outputs": [
    {
     "name": "stdout",
     "output_type": "stream",
     "text": [
      "965051.8733549714\n"
     ]
    }
   ],
   "execution_count": 56
  },
  {
   "metadata": {},
   "cell_type": "code",
   "outputs": [],
   "execution_count": null,
   "source": "",
   "id": "7040dae8d3ab508e"
  }
 ],
 "metadata": {
  "kernelspec": {
   "display_name": "Python 3",
   "language": "python",
   "name": "python3"
  },
  "language_info": {
   "codemirror_mode": {
    "name": "ipython",
    "version": 2
   },
   "file_extension": ".py",
   "mimetype": "text/x-python",
   "name": "python",
   "nbconvert_exporter": "python",
   "pygments_lexer": "ipython2",
   "version": "2.7.6"
  }
 },
 "nbformat": 4,
 "nbformat_minor": 5
}
