{
 "cells": [
  {
   "cell_type": "code",
   "id": "initial_id",
   "metadata": {
    "collapsed": true,
    "ExecuteTime": {
     "end_time": "2025-07-30T16:34:48.837415Z",
     "start_time": "2025-07-30T16:34:48.802409Z"
    }
   },
   "source": [
    "import numpy as np\n",
    "import pandas as pd"
   ],
   "outputs": [],
   "execution_count": 31
  },
  {
   "metadata": {
    "ExecuteTime": {
     "end_time": "2025-07-30T16:35:28.069422Z",
     "start_time": "2025-07-30T16:34:49.225993Z"
    }
   },
   "cell_type": "code",
   "source": "df = pd.read_csv('data/PSRC/_trip.tsv', sep='\\t')",
   "id": "575f975df5916f61",
   "outputs": [],
   "execution_count": 32
  },
  {
   "metadata": {
    "ExecuteTime": {
     "end_time": "2025-07-30T16:35:34.520727Z",
     "start_time": "2025-07-30T16:35:34.506347Z"
    }
   },
   "cell_type": "code",
   "source": [
    "time_start = 8\n",
    "time_end = 9"
   ],
   "id": "c6498bfc1b36e8e6",
   "outputs": [],
   "execution_count": 33
  },
  {
   "metadata": {
    "ExecuteTime": {
     "end_time": "2025-07-30T16:44:24.265585Z",
     "start_time": "2025-07-30T16:44:22.747388Z"
    }
   },
   "cell_type": "code",
   "source": "TAZ = pd.unique(df['dtaz'].sort_values())",
   "id": "a66dd7bb1b4703aa",
   "outputs": [
    {
     "data": {
      "text/plain": [
       "array([   1,    2,    3, ..., 3905, 3907, 3908], shape=(3836,))"
      ]
     },
     "execution_count": 46,
     "metadata": {},
     "output_type": "execute_result"
    }
   ],
   "execution_count": 46
  },
  {
   "metadata": {
    "ExecuteTime": {
     "end_time": "2025-07-30T16:35:37.972143Z",
     "start_time": "2025-07-30T16:35:35.253018Z"
    }
   },
   "cell_type": "code",
   "source": "df_8to9 = df[(df['deptm'] > time_start*60) & (df['deptm'] <= time_end*60)]",
   "id": "f36e4d781d6b79f8",
   "outputs": [],
   "execution_count": 34
  },
  {
   "metadata": {
    "ExecuteTime": {
     "end_time": "2025-07-30T16:35:38.722748Z",
     "start_time": "2025-07-30T16:35:38.715348Z"
    }
   },
   "cell_type": "code",
   "source": "print(df_8to9.shape[0]/df.shape[0])",
   "id": "534b0b168407ddba",
   "outputs": [
    {
     "name": "stdout",
     "output_type": "stream",
     "text": [
      "0.06768951811033869\n"
     ]
    }
   ],
   "execution_count": 35
  },
  {
   "metadata": {
    "ExecuteTime": {
     "end_time": "2025-07-30T16:35:49.017632Z",
     "start_time": "2025-07-30T16:35:48.347034Z"
    }
   },
   "cell_type": "code",
   "source": [
    "OD_8to9 = {\n",
    "    'SOV': (\n",
    "        df_8to9[df_8to9['mode'] == 3]\n",
    "        .groupby(['otaz', 'dtaz'])\n",
    "        .size()\n",
    "        .unstack(fill_value=0)\n",
    "        # .reindex(index=TAZ, columns=TAZ, fill_value=0)\n",
    "    ),\n",
    "    'HOV': (\n",
    "        df_8to9[(df_8to9['mode'] == 4) | (df_8to9['mode'] == 5) | (df_8to9['mode'] == 7)] #HOV, HOV3+, Park and ride\n",
    "        .groupby(['otaz', 'dtaz'])\n",
    "        .size()\n",
    "        .unstack(fill_value=0)\n",
    "        # .reindex(index=TAZ, columns=TAZ, fill_value=0)\n",
    "    )\n",
    "}\n"
   ],
   "id": "d682d1714273408e",
   "outputs": [],
   "execution_count": 37
  },
  {
   "metadata": {
    "ExecuteTime": {
     "end_time": "2025-07-30T17:00:59.036956Z",
     "start_time": "2025-07-30T17:00:58.986523Z"
    }
   },
   "cell_type": "code",
   "source": [
    "print(f'SOV Trips make up {round(OD_8to9['SOV'].sum().sum()/df_8to9.shape[0],4)*100}%, with a total of {OD_8to9['SOV'].sum().sum()} trips\\n '\n",
    "      f'and other car trips make up {round(OD_8to9['HOV'].sum().sum()/df_8to9.shape[0],4)*100}%, with a total of {OD_8to9['HOV'].sum().sum()} trips')"
   ],
   "id": "1094e53844147121",
   "outputs": [
    {
     "name": "stdout",
     "output_type": "stream",
     "text": [
      "SOV Trips make up 42.96%, with a total of 473746 trips\n",
      " and other car trips make up 37.2%, with a total of 410275 trips\n"
     ]
    }
   ],
   "execution_count": 71
  },
  {
   "metadata": {
    "ExecuteTime": {
     "end_time": "2025-07-30T16:59:24.336872Z",
     "start_time": "2025-07-30T16:59:24.320304Z"
    }
   },
   "cell_type": "code",
   "source": "OD_8to9['SOV'].sum().sum()",
   "id": "8de7e874773c288",
   "outputs": [
    {
     "data": {
      "text/plain": [
       "np.int64(473746)"
      ]
     },
     "execution_count": 67,
     "metadata": {},
     "output_type": "execute_result"
    }
   ],
   "execution_count": 67
  },
  {
   "metadata": {
    "ExecuteTime": {
     "end_time": "2025-07-30T16:59:05.896914Z",
     "start_time": "2025-07-30T16:59:05.888204Z"
    }
   },
   "cell_type": "code",
   "source": [
    "`OD_8to9['SOV'].to_csv('data/PSRC/PSRC_OO/8to9_SOV.csv', index=True)\n",
    "OD_8to9['HOV'].to_csv('data/PSRC/PSRC_OO/8to9_HOV.csv', index=True)"
   ],
   "id": "2e6ea76fece7829e",
   "outputs": [
    {
     "ename": "SyntaxError",
     "evalue": "invalid syntax (2877772158.py, line 1)",
     "output_type": "error",
     "traceback": [
      "  \u001B[36mCell\u001B[39m\u001B[36m \u001B[39m\u001B[32mIn[65]\u001B[39m\u001B[32m, line 1\u001B[39m\n\u001B[31m    \u001B[39m\u001B[31m`OD_8to9['SOV'].to_csv('data/PSRC/PSRC_OO/8to9_SOV.csv', index=True)\u001B[39m\n    ^\n\u001B[31mSyntaxError\u001B[39m\u001B[31m:\u001B[39m invalid syntax\n"
     ]
    }
   ],
   "execution_count": 65
  }
 ],
 "metadata": {
  "kernelspec": {
   "display_name": "Python 3",
   "language": "python",
   "name": "python3"
  },
  "language_info": {
   "codemirror_mode": {
    "name": "ipython",
    "version": 2
   },
   "file_extension": ".py",
   "mimetype": "text/x-python",
   "name": "python",
   "nbconvert_exporter": "python",
   "pygments_lexer": "ipython2",
   "version": "2.7.6"
  }
 },
 "nbformat": 4,
 "nbformat_minor": 5
}
