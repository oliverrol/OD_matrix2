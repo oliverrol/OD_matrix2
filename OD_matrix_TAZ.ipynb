{
 "cells": [
  {
   "cell_type": "code",
   "id": "initial_id",
   "metadata": {
    "collapsed": true,
    "ExecuteTime": {
     "end_time": "2025-07-05T18:20:37.980049Z",
     "start_time": "2025-07-05T18:20:37.969778Z"
    }
   },
   "source": [
    "import numpy as np\n",
    "import pandas as pd"
   ],
   "outputs": [],
   "execution_count": 11
  },
  {
   "metadata": {
    "ExecuteTime": {
     "end_time": "2025-07-05T18:13:46.546556Z",
     "start_time": "2025-07-05T18:12:44.056770Z"
    }
   },
   "cell_type": "code",
   "source": "df = pd.read_csv('data/PSRC/_trip.tsv', sep='\\t')",
   "id": "575f975df5916f61",
   "outputs": [],
   "execution_count": 2
  },
  {
   "metadata": {
    "ExecuteTime": {
     "end_time": "2025-07-05T18:14:17.530904Z",
     "start_time": "2025-07-05T18:14:17.482908Z"
    }
   },
   "cell_type": "code",
   "source": "df.head()",
   "id": "ba1d6d7c75ab4f0d",
   "outputs": [
    {
     "data": {
      "text/plain": [
       "       id  tour_id  hhno  pno  day  tour  half  tseg  tsvid  opurp  ...  \\\n",
       "0   45201      452    15    1    1     2     1     1      0      0  ...   \n",
       "1   45251      452    15    1    1     2     2     1      0      7  ...   \n",
       "2   45101      451    15    1    1     1     1     1      0      0  ...   \n",
       "3   45151      451    15    1    1     1     2     1      0      6  ...   \n",
       "4  112101     1121    39    1    1     1     1     1      0      0  ...   \n",
       "\n",
       "   deptm  arrtm  endacttm   travtime  travcost  travdist       vot  trexpfac  \\\n",
       "0    460    480       523  20.143027     0.000  1.007151  0.738360         1   \n",
       "1    523    543       992  20.143027     0.000  1.007151  0.738360         1   \n",
       "2    992   1039      1089  47.146712     0.000  2.357336  2.181563         1   \n",
       "3   1089   1136       179  47.146712     0.000  2.357336  2.181563         1   \n",
       "4   1004   1021      1023  17.730000     1.074  5.370000  6.842999         1   \n",
       "\n",
       "          od  sov_ff_time  \n",
       "0  2761-2788          940  \n",
       "1  2788-2761          938  \n",
       "2  2761-2838         1116  \n",
       "3  2838-2761         1119  \n",
       "4  2761-2959         1749  \n",
       "\n",
       "[5 rows x 30 columns]"
      ],
      "text/html": [
       "<div>\n",
       "<style scoped>\n",
       "    .dataframe tbody tr th:only-of-type {\n",
       "        vertical-align: middle;\n",
       "    }\n",
       "\n",
       "    .dataframe tbody tr th {\n",
       "        vertical-align: top;\n",
       "    }\n",
       "\n",
       "    .dataframe thead th {\n",
       "        text-align: right;\n",
       "    }\n",
       "</style>\n",
       "<table border=\"1\" class=\"dataframe\">\n",
       "  <thead>\n",
       "    <tr style=\"text-align: right;\">\n",
       "      <th></th>\n",
       "      <th>id</th>\n",
       "      <th>tour_id</th>\n",
       "      <th>hhno</th>\n",
       "      <th>pno</th>\n",
       "      <th>day</th>\n",
       "      <th>tour</th>\n",
       "      <th>half</th>\n",
       "      <th>tseg</th>\n",
       "      <th>tsvid</th>\n",
       "      <th>opurp</th>\n",
       "      <th>...</th>\n",
       "      <th>deptm</th>\n",
       "      <th>arrtm</th>\n",
       "      <th>endacttm</th>\n",
       "      <th>travtime</th>\n",
       "      <th>travcost</th>\n",
       "      <th>travdist</th>\n",
       "      <th>vot</th>\n",
       "      <th>trexpfac</th>\n",
       "      <th>od</th>\n",
       "      <th>sov_ff_time</th>\n",
       "    </tr>\n",
       "  </thead>\n",
       "  <tbody>\n",
       "    <tr>\n",
       "      <th>0</th>\n",
       "      <td>45201</td>\n",
       "      <td>452</td>\n",
       "      <td>15</td>\n",
       "      <td>1</td>\n",
       "      <td>1</td>\n",
       "      <td>2</td>\n",
       "      <td>1</td>\n",
       "      <td>1</td>\n",
       "      <td>0</td>\n",
       "      <td>0</td>\n",
       "      <td>...</td>\n",
       "      <td>460</td>\n",
       "      <td>480</td>\n",
       "      <td>523</td>\n",
       "      <td>20.143027</td>\n",
       "      <td>0.000</td>\n",
       "      <td>1.007151</td>\n",
       "      <td>0.738360</td>\n",
       "      <td>1</td>\n",
       "      <td>2761-2788</td>\n",
       "      <td>940</td>\n",
       "    </tr>\n",
       "    <tr>\n",
       "      <th>1</th>\n",
       "      <td>45251</td>\n",
       "      <td>452</td>\n",
       "      <td>15</td>\n",
       "      <td>1</td>\n",
       "      <td>1</td>\n",
       "      <td>2</td>\n",
       "      <td>2</td>\n",
       "      <td>1</td>\n",
       "      <td>0</td>\n",
       "      <td>7</td>\n",
       "      <td>...</td>\n",
       "      <td>523</td>\n",
       "      <td>543</td>\n",
       "      <td>992</td>\n",
       "      <td>20.143027</td>\n",
       "      <td>0.000</td>\n",
       "      <td>1.007151</td>\n",
       "      <td>0.738360</td>\n",
       "      <td>1</td>\n",
       "      <td>2788-2761</td>\n",
       "      <td>938</td>\n",
       "    </tr>\n",
       "    <tr>\n",
       "      <th>2</th>\n",
       "      <td>45101</td>\n",
       "      <td>451</td>\n",
       "      <td>15</td>\n",
       "      <td>1</td>\n",
       "      <td>1</td>\n",
       "      <td>1</td>\n",
       "      <td>1</td>\n",
       "      <td>1</td>\n",
       "      <td>0</td>\n",
       "      <td>0</td>\n",
       "      <td>...</td>\n",
       "      <td>992</td>\n",
       "      <td>1039</td>\n",
       "      <td>1089</td>\n",
       "      <td>47.146712</td>\n",
       "      <td>0.000</td>\n",
       "      <td>2.357336</td>\n",
       "      <td>2.181563</td>\n",
       "      <td>1</td>\n",
       "      <td>2761-2838</td>\n",
       "      <td>1116</td>\n",
       "    </tr>\n",
       "    <tr>\n",
       "      <th>3</th>\n",
       "      <td>45151</td>\n",
       "      <td>451</td>\n",
       "      <td>15</td>\n",
       "      <td>1</td>\n",
       "      <td>1</td>\n",
       "      <td>1</td>\n",
       "      <td>2</td>\n",
       "      <td>1</td>\n",
       "      <td>0</td>\n",
       "      <td>6</td>\n",
       "      <td>...</td>\n",
       "      <td>1089</td>\n",
       "      <td>1136</td>\n",
       "      <td>179</td>\n",
       "      <td>47.146712</td>\n",
       "      <td>0.000</td>\n",
       "      <td>2.357336</td>\n",
       "      <td>2.181563</td>\n",
       "      <td>1</td>\n",
       "      <td>2838-2761</td>\n",
       "      <td>1119</td>\n",
       "    </tr>\n",
       "    <tr>\n",
       "      <th>4</th>\n",
       "      <td>112101</td>\n",
       "      <td>1121</td>\n",
       "      <td>39</td>\n",
       "      <td>1</td>\n",
       "      <td>1</td>\n",
       "      <td>1</td>\n",
       "      <td>1</td>\n",
       "      <td>1</td>\n",
       "      <td>0</td>\n",
       "      <td>0</td>\n",
       "      <td>...</td>\n",
       "      <td>1004</td>\n",
       "      <td>1021</td>\n",
       "      <td>1023</td>\n",
       "      <td>17.730000</td>\n",
       "      <td>1.074</td>\n",
       "      <td>5.370000</td>\n",
       "      <td>6.842999</td>\n",
       "      <td>1</td>\n",
       "      <td>2761-2959</td>\n",
       "      <td>1749</td>\n",
       "    </tr>\n",
       "  </tbody>\n",
       "</table>\n",
       "<p>5 rows × 30 columns</p>\n",
       "</div>"
      ]
     },
     "execution_count": 3,
     "metadata": {},
     "output_type": "execute_result"
    }
   ],
   "execution_count": 3
  },
  {
   "metadata": {
    "ExecuteTime": {
     "end_time": "2025-07-05T18:14:23.230122Z",
     "start_time": "2025-07-05T18:14:20.918887Z"
    }
   },
   "cell_type": "code",
   "source": "df_8to9 = df[(df['deptm'] >= 480) & (df['deptm'] <= 540)]",
   "id": "f36e4d781d6b79f8",
   "outputs": [],
   "execution_count": 4
  },
  {
   "metadata": {
    "ExecuteTime": {
     "end_time": "2025-07-05T18:29:30.320995Z",
     "start_time": "2025-07-05T18:29:29.894293Z"
    }
   },
   "cell_type": "code",
   "source": [
    "OD_8to9 = {\n",
    "    'SOV': (\n",
    "        df_8to9[df_8to9['mode'] == 3]\n",
    "        .groupby(['otaz', 'dtaz'])\n",
    "        .size()\n",
    "        .unstack(fill_value=0)\n",
    "        # .reindex(index=TAZ, columns=TAZ, fill_value=0)\n",
    "    ),\n",
    "    'HOV': (\n",
    "        df_8to9[(df_8to9['mode'] == 4) | (df_8to9['mode'] == 5) | (df_8to9['mode'] == 7)] #HOV, HOV3+, Park and ride\n",
    "        .groupby(['otaz', 'dtaz'])\n",
    "        .size()\n",
    "        .unstack(fill_value=0)\n",
    "        # .reindex(index=TAZ, columns=TAZ, fill_value=0)\n",
    "    )\n",
    "}\n"
   ],
   "id": "d682d1714273408e",
   "outputs": [],
   "execution_count": 23
  },
  {
   "metadata": {
    "ExecuteTime": {
     "end_time": "2025-07-05T18:29:35.701029Z",
     "start_time": "2025-07-05T18:29:32.399708Z"
    }
   },
   "cell_type": "code",
   "source": [
    "OD_8to9['SOV'].to_csv('data/PSRC/PSRC_OO/8to9_SOV.csv', index=True)\n",
    "OD_8to9['HOV'].to_csv('data/PSRC/PSRC_OO/8to9_HOV.csv', index=True)"
   ],
   "id": "2e6ea76fece7829e",
   "outputs": [],
   "execution_count": 24
  }
 ],
 "metadata": {
  "kernelspec": {
   "display_name": "Python 3",
   "language": "python",
   "name": "python3"
  },
  "language_info": {
   "codemirror_mode": {
    "name": "ipython",
    "version": 2
   },
   "file_extension": ".py",
   "mimetype": "text/x-python",
   "name": "python",
   "nbconvert_exporter": "python",
   "pygments_lexer": "ipython2",
   "version": "2.7.6"
  }
 },
 "nbformat": 4,
 "nbformat_minor": 5
}
